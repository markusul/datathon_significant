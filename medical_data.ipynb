{
 "cells": [
  {
   "cell_type": "code",
   "execution_count": 1,
   "metadata": {},
   "outputs": [
    {
     "name": "stdout",
     "output_type": "stream",
     "text": [
      "Collecting laserembeddings\n",
      "  Downloading laserembeddings-1.1.2-py3-none-any.whl (13 kB)\n",
      "Collecting torch<2.0.0,>=1.0.1.post2\n",
      "  Downloading torch-1.10.2-cp36-cp36m-manylinux1_x86_64.whl (881.9 MB)\n"
     ]
    },
    {
     "name": "stdout",
     "output_type": "stream",
     "text": [
      "\u001b[K     |█████████████▉                  | 379.9 MB 8.5 MB/s eta 0:00:599  |▏                               | 5.8 MB 5.7 MB/s eta 0:02:35     |█▌                              | 41.7 MB 5.7 MB/s eta 0:02:29     |█▊                              | 46.6 MB 5.7 MB/s eta 0:02:28     |███▎                            | 89.2 MB 17.0 MB/s eta 0:00:47     |███▌                            | 97.0 MB 35.1 MB/s eta 0:00:23     |███▋                            | 99.6 MB 35.1 MB/s eta 0:00:23     |███▊                            | 103.2 MB 35.1 MB/s eta 0:00:23     |███▉                            | 105.5 MB 35.1 MB/s eta 0:00:23     |████                            | 107.5 MB 35.1 MB/s eta 0:00:23     |████                            | 108.6 MB 35.1 MB/s eta 0:00:23     |████▏                           | 114.7 MB 9.3 MB/s eta 0:01:23     |████▎                           | 118.3 MB 9.3 MB/s eta 0:01:23     |████▎                           | 119.3 MB 9.3 MB/s eta 0:01:22     |████▍                           | 120.0 MB 9.3 MB/s eta 0:01:22     |████▍                           | 122.3 MB 9.3 MB/s eta 0:01:22     |████▊                           | 128.9 MB 14.7 MB/s eta 0:00:52     |████▊                           | 130.2 MB 14.7 MB/s eta 0:00:52     |████▊                           | 131.6 MB 14.7 MB/s eta 0:00:51     |█████                           | 138.0 MB 14.7 MB/s eta 0:00:51     |█████▏                          | 141.2 MB 36.2 MB/s eta 0:00:21     |█████▎                          | 145.5 MB 36.2 MB/s eta 0:00:21     |█████▎                          | 146.3 MB 36.2 MB/s eta 0:00:21     |█████▍                          | 150.0 MB 36.2 MB/s eta 0:00:21     |█████▌                          | 150.6 MB 36.2 MB/s eta 0:00:21     |█████▊                          | 158.1 MB 19.4 MB/s eta 0:00:38     |█████▉                          | 159.8 MB 19.4 MB/s eta 0:00:38     |██████                          | 164.0 MB 19.4 MB/s eta 0:00:37     |██████                          | 165.4 MB 19.4 MB/s eta 0:00:37     |██████                          | 166.9 MB 19.4 MB/s eta 0:00:37     |██████▏                         | 169.2 MB 12.6 MB/s eta 0:00:57     |██████▎                         | 171.7 MB 12.6 MB/s eta 0:00:57     |██████▎                         | 173.6 MB 12.6 MB/s eta 0:00:57     |██████▍                         | 174.9 MB 12.6 MB/s eta 0:00:57     |██████▌                         | 179.3 MB 12.6 MB/s eta 0:00:56     |██████▌                         | 179.9 MB 11.0 MB/s eta 0:01:05     |██████▋                         | 181.1 MB 11.0 MB/s eta 0:01:04     |██████▋                         | 183.1 MB 11.0 MB/s eta 0:01:04     |██████▊                         | 184.5 MB 11.0 MB/s eta 0:01:04     |██████▊                         | 185.9 MB 11.0 MB/s eta 0:01:04     |██████▉                         | 189.5 MB 11.0 MB/s eta 0:01:04     |███████                         | 192.9 MB 12.5 MB/s eta 0:00:56     |███████                         | 194.4 MB 12.5 MB/s eta 0:00:56     |███████                         | 195.8 MB 12.5 MB/s eta 0:00:56     |███████▌                        | 207.5 MB 13.4 MB/s eta 0:00:51     |███████▉                        | 214.8 MB 13.4 MB/s eta 0:00:50     |████████                        | 218.2 MB 7.3 MB/s eta 0:01:31     |████████▏                       | 225.3 MB 7.3 MB/s eta 0:01:30     |████████▍                       | 229.8 MB 5.9 MB/s eta 0:01:51     |████████▍                       | 232.1 MB 5.9 MB/s eta 0:01:51     |████████▍                       | 232.7 MB 5.9 MB/s eta 0:01:50     |████████▌                       | 234.6 MB 5.9 MB/s eta 0:01:50     |████████▋                       | 236.4 MB 5.9 MB/s eta 0:01:50     |████████▋                       | 237.5 MB 5.9 MB/s eta 0:01:50     |████████▋                       | 238.0 MB 5.9 MB/s eta 0:01:50     |████████▉                       | 242.5 MB 6.8 MB/s eta 0:01:34     |████████▉                       | 243.1 MB 6.8 MB/s eta 0:01:34     |█████████                       | 246.9 MB 6.8 MB/s eta 0:01:34     |█████████                       | 248.2 MB 6.8 MB/s eta 0:01:33     |█████████▎                      | 254.9 MB 7.5 MB/s eta 0:01:25     |█████████▎                      | 255.7 MB 7.5 MB/s eta 0:01:25     |█████████▍                      | 258.3 MB 7.5 MB/s eta 0:01:24     |█████████▍                      | 260.1 MB 7.5 MB/s eta 0:01:24     |█████████▌                      | 262.3 MB 7.5 MB/s eta 0:01:24     |█████████▋                      | 264.5 MB 11.1 MB/s eta 0:00:56     |█████████▊                      | 266.8 MB 11.1 MB/s eta 0:00:56     |█████████▊                      | 267.3 MB 11.1 MB/s eta 0:00:56     |█████████▉                      | 270.1 MB 11.1 MB/s eta 0:00:56     |█████████▉                      | 271.4 MB 11.1 MB/s eta 0:00:55     |█████████▉                      | 271.9 MB 9.5 MB/s eta 0:01:05     |██████████                      | 273.4 MB 9.5 MB/s eta 0:01:05     |██████████                      | 274.5 MB 9.5 MB/s eta 0:01:05     |██████████                      | 275.6 MB 9.5 MB/s eta 0:01:05     |██████████                      | 277.6 MB 9.5 MB/s eta 0:01:04     |██████████▎                     | 281.8 MB 9.5 MB/s eta 0:01:04     |██████████▍                     | 285.1 MB 14.7 MB/s eta 0:00:41     |██████████▍                     | 285.9 MB 14.7 MB/s eta 0:00:41     |██████████▋                     | 291.7 MB 14.7 MB/s eta 0:00:41     |██████████▋                     | 293.2 MB 14.7 MB/s eta 0:00:40     |██████████▋                     | 293.9 MB 14.7 MB/s eta 0:00:40     |███████████                     | 301.6 MB 7.3 MB/s eta 0:01:20     |███████████                     | 302.3 MB 7.3 MB/s eta 0:01:20     |███████████▏                    | 306.7 MB 7.3 MB/s eta 0:01:19     |███████████▍                    | 313.7 MB 3.5 MB/s eta 0:02:41     |███████████▍                    | 314.3 MB 3.5 MB/s eta 0:02:41     |███████████▌                    | 315.8 MB 3.5 MB/s eta 0:02:41     |███████████▌                    | 316.4 MB 3.5 MB/s eta 0:02:40     |███████████▌                    | 317.6 MB 3.5 MB/s eta 0:02:40     |███████████▊                    | 323.8 MB 8.8 MB/s eta 0:01:04     |███████████▊                    | 324.4 MB 8.8 MB/s eta 0:01:04     |███████████▉                    | 326.2 MB 8.8 MB/s eta 0:01:04     |████████████                    | 329.7 MB 8.8 MB/s eta 0:01:03     |████████████                    | 330.2 MB 8.8 MB/s eta 0:01:03     |████████████                    | 330.7 MB 8.8 MB/s eta 0:01:03     |████████████                    | 331.3 MB 8.8 MB/s eta 0:01:03     |████████████                    | 332.4 MB 8.8 MB/s eta 0:01:03     |████████████▎                   | 339.5 MB 7.0 MB/s eta 0:01:18     |████████████▎                   | 339.9 MB 7.0 MB/s eta 0:01:18     |████████████▌                   | 343.2 MB 8.0 MB/s eta 0:01:08     |████████████▌                   | 343.6 MB 8.0 MB/s eta 0:01:08     |████████████▌                   | 345.1 MB 8.0 MB/s eta 0:01:08     |████████████▋                   | 347.3 MB 8.0 MB/s eta 0:01:07     |████████████▋                   | 348.6 MB 8.0 MB/s eta 0:01:07     |████████████▊                   | 350.7 MB 8.0 MB/s eta 0:01:07     |████████████▉                   | 352.2 MB 14.3 MB/s eta 0:00:38     |████████████▉                   | 352.7 MB 14.3 MB/s eta 0:00:38     |████████████▉                   | 353.3 MB 14.3 MB/s eta 0:00:38     |█████████████                   | 358.0 MB 14.3 MB/s eta 0:00:37     |█████████████▏                  | 363.4 MB 14.3 MB/s eta 0:00:37     |█████████████▏                  | 364.3 MB 13.2 MB/s eta 0:00:40     |█████████████▎                  | 365.2 MB 13.2 MB/s eta 0:00:40     |█████████████▌                  | 370.6 MB 13.2 MB/s eta 0:00:39     |█████████████▌                  | 371.4 MB 13.2 MB/s eta 0:00:39     |█████████████▋                  | 373.6 MB 13.2 MB/s eta 0:00:39     |█████████████▋                  | 374.4 MB 13.2 MB/s eta 0:00:39     |█████████████▊                  | 379.2 MB 8.5 MB/s eta 0:00:59\r",
      "\u001b[K     |█████████████▉                  | 379.9 MB 8.5 MB/s eta 0:00:59\r",
      "\u001b[K     |█████████████▉                  | 380.0 MB 8.5 MB/s eta 0:00:59\r",
      "\u001b[K     |█████████████▉                  | 380.0 MB 8.5 MB/s eta 0:00:59\r",
      "\u001b[K     |█████████████▉                  | 380.0 MB 8.5 MB/s eta 0:00:59\r",
      "\u001b[K     |█████████████▉                  | 380.0 MB 8.5 MB/s eta 0:00:59\r",
      "\u001b[K     |█████████████▉                  | 380.0 MB 8.5 MB/s eta 0:00:59\r",
      "\u001b[K     |█████████████▉                  | 380.0 MB 8.5 MB/s eta 0:00:59\r",
      "\u001b[K     |█████████████▉                  | 380.0 MB 8.5 MB/s eta 0:00:59\r",
      "\u001b[K     |█████████████▉                  | 380.0 MB 8.5 MB/s eta 0:00:59\r",
      "\u001b[K     |█████████████▉                  | 380.0 MB 8.5 MB/s eta 0:00:59\r",
      "\u001b[K     |█████████████▉                  | 380.0 MB 8.5 MB/s eta 0:00:59\r",
      "\u001b[K     |█████████████▉                  | 380.1 MB 8.5 MB/s eta 0:00:59\r",
      "\u001b[K     |█████████████▉                  | 380.1 MB 8.5 MB/s eta 0:00:59\r",
      "\u001b[K     |█████████████▉                  | 380.1 MB 8.5 MB/s eta 0:00:59\r",
      "\u001b[K     |█████████████▉                  | 380.1 MB 8.5 MB/s eta 0:00:59\r",
      "\u001b[K     |█████████████▉                  | 380.1 MB 8.5 MB/s eta 0:00:59\r",
      "\u001b[K     |█████████████▉                  | 380.1 MB 8.5 MB/s eta 0:00:59\r",
      "\u001b[K     |█████████████▉                  | 380.1 MB 8.5 MB/s eta 0:00:59\r",
      "\u001b[K     |█████████████▉                  | 380.1 MB 8.5 MB/s eta 0:00:59\r",
      "\u001b[K     |█████████████▉                  | 380.1 MB 8.5 MB/s eta 0:00:59\r",
      "\u001b[K     |█████████████▉                  | 380.1 MB 8.5 MB/s eta 0:00:59\r",
      "\u001b[K     |█████████████▉                  | 380.2 MB 8.5 MB/s eta 0:00:59\r",
      "\u001b[K     |█████████████▉                  | 380.2 MB 8.5 MB/s eta 0:00:59\r",
      "\u001b[K     |█████████████▉                  | 380.2 MB 8.5 MB/s eta 0:00:59\r",
      "\u001b[K     |█████████████▉                  | 380.2 MB 8.5 MB/s eta 0:00:59\r",
      "\u001b[K     |█████████████▉                  | 380.2 MB 8.5 MB/s eta 0:00:59\r",
      "\u001b[K     |█████████████▉                  | 380.2 MB 8.5 MB/s eta 0:00:59\r",
      "\u001b[K     |█████████████▉                  | 380.2 MB 8.5 MB/s eta 0:00:59\r",
      "\u001b[K     |█████████████▉                  | 380.2 MB 8.5 MB/s eta 0:00:59\r",
      "\u001b[K     |█████████████▉                  | 380.2 MB 8.5 MB/s eta 0:00:59\r",
      "\u001b[K     |█████████████▉                  | 380.3 MB 8.5 MB/s eta 0:00:59\r",
      "\u001b[K     |█████████████▉                  | 380.3 MB 8.5 MB/s eta 0:00:59\r",
      "\u001b[K     |█████████████▉                  | 380.3 MB 8.5 MB/s eta 0:00:59\r",
      "\u001b[K     |█████████████▉                  | 380.3 MB 8.5 MB/s eta 0:00:59\r",
      "\u001b[K     |█████████████▉                  | 380.3 MB 8.5 MB/s eta 0:00:59\r",
      "\u001b[K     |█████████████▉                  | 380.3 MB 8.5 MB/s eta 0:00:59\r",
      "\u001b[K     |█████████████▉                  | 380.3 MB 8.5 MB/s eta 0:00:59\r",
      "\u001b[K     |█████████████▉                  | 380.3 MB 8.5 MB/s eta 0:00:59\r",
      "\u001b[K     |█████████████▉                  | 380.3 MB 8.5 MB/s eta 0:00:59\r",
      "\u001b[K     |█████████████▉                  | 380.3 MB 8.5 MB/s eta 0:00:59\r",
      "\u001b[K     |█████████████▉                  | 380.4 MB 8.5 MB/s eta 0:00:59\r",
      "\u001b[K     |█████████████▉                  | 380.4 MB 8.5 MB/s eta 0:00:59\r",
      "\u001b[K     |█████████████▉                  | 380.4 MB 8.5 MB/s eta 0:00:59\r",
      "\u001b[K     |█████████████▉                  | 380.4 MB 8.5 MB/s eta 0:00:59\r",
      "\u001b[K     |█████████████▉                  | 380.4 MB 8.5 MB/s eta 0:00:59\r",
      "\u001b[K     |█████████████▉                  | 380.4 MB 8.5 MB/s eta 0:00:59\r",
      "\u001b[K     |█████████████▉                  | 380.4 MB 8.5 MB/s eta 0:00:59\r",
      "\u001b[K     |█████████████▉                  | 380.4 MB 8.5 MB/s eta 0:00:59\r",
      "\u001b[K     |█████████████▉                  | 380.4 MB 8.5 MB/s eta 0:00:59\r",
      "\u001b[K     |█████████████▉                  | 380.4 MB 8.5 MB/s eta 0:00:59\r",
      "\u001b[K     |█████████████▉                  | 380.5 MB 8.5 MB/s eta 0:00:59\r",
      "\u001b[K     |█████████████▉                  | 380.5 MB 8.5 MB/s eta 0:00:59\r",
      "\u001b[K     |█████████████▉                  | 380.5 MB 8.5 MB/s eta 0:00:59\r",
      "\u001b[K     |█████████████▉                  | 380.5 MB 8.5 MB/s eta 0:00:59\r",
      "\u001b[K     |█████████████▉                  | 380.5 MB 8.5 MB/s eta 0:00:59\r",
      "\u001b[K     |█████████████▉                  | 380.5 MB 8.5 MB/s eta 0:00:59\r",
      "\u001b[K     |█████████████▉                  | 380.5 MB 8.5 MB/s eta 0:00:59\r",
      "\u001b[K     |█████████████▉                  | 380.5 MB 8.5 MB/s eta 0:00:59\r",
      "\u001b[K     |█████████████▉                  | 380.5 MB 8.5 MB/s eta 0:00:59\r",
      "\u001b[K     |█████████████▉                  | 380.5 MB 8.5 MB/s eta 0:00:59\r",
      "\u001b[K     |█████████████▉                  | 380.6 MB 8.5 MB/s eta 0:00:59\r",
      "\u001b[K     |█████████████▉                  | 380.6 MB 8.5 MB/s eta 0:00:59\r",
      "\u001b[K     |█████████████▉                  | 380.6 MB 8.5 MB/s eta 0:00:59\r",
      "\u001b[K     |█████████████▉                  | 380.6 MB 8.5 MB/s eta 0:00:59"
     ]
    },
    {
     "name": "stdout",
     "output_type": "stream",
     "text": [
      "\u001b[K     |███████████████████████████▏    | 747.9 MB 10.6 MB/s eta 0:00:13    |█████████████▉                  | 382.0 MB 8.5 MB/s eta 0:00:59     |██████████████                  | 384.4 MB 8.5 MB/s eta 0:00:59     |██████████████                  | 386.0 MB 8.5 MB/s eta 0:00:59     |██████████████▏                 | 390.5 MB 8.5 MB/s eta 0:00:58     |██████████████▏                 | 391.5 MB 8.5 MB/s eta 0:00:58     |██████████████▍                 | 395.1 MB 20.9 MB/s eta 0:00:24     |██████████████▌                 | 399.6 MB 20.9 MB/s eta 0:00:24     |██████████████▋                 | 401.2 MB 20.9 MB/s eta 0:00:24     |██████████████▋                 | 403.9 MB 20.9 MB/s eta 0:00:23     |██████████████▊                 | 406.7 MB 20.9 MB/s eta 0:00:23     |██████████████▉                 | 408.8 MB 25.5 MB/s eta 0:00:19     |███████████████                 | 415.0 MB 25.5 MB/s eta 0:00:19     |███████████████▏                | 416.7 MB 25.5 MB/s eta 0:00:19     |███████████████▋                | 428.7 MB 9.5 MB/s eta 0:00:48     |███████████████▊                | 432.6 MB 4.9 MB/s eta 0:01:32     |███████████████▊                | 433.0 MB 4.9 MB/s eta 0:01:31     |███████████████▊                | 434.0 MB 4.9 MB/s eta 0:01:31     |███████████████▉                | 435.3 MB 4.9 MB/s eta 0:01:31     |████████████████                | 439.6 MB 7.4 MB/s eta 0:01:00     |████████████████▏               | 444.4 MB 7.4 MB/s eta 0:01:00     |████████████████▏               | 444.9 MB 7.4 MB/s eta 0:01:00     |████████████████▏               | 446.1 MB 7.4 MB/s eta 0:00:59     |████████████████▏               | 446.7 MB 12.4 MB/s eta 0:00:35     |████████████████▎               | 447.8 MB 12.4 MB/s eta 0:00:35     |████████████████▎               | 448.3 MB 12.4 MB/s eta 0:00:35     |████████████████▎               | 449.7 MB 12.4 MB/s eta 0:00:35     |████████████████▍               | 450.7 MB 12.4 MB/s eta 0:00:35     |████████████████▋               | 458.5 MB 42.1 MB/s eta 0:00:11     |████████████████▊               | 460.0 MB 42.1 MB/s eta 0:00:11     |████████████████▉               | 465.4 MB 42.1 MB/s eta 0:00:10     |█████████████████               | 466.7 MB 42.1 MB/s eta 0:00:10     |█████████████████               | 467.4 MB 42.1 MB/s eta 0:00:10     |█████████████████               | 468.0 MB 42.1 MB/s eta 0:00:10     |█████████████████               | 471.4 MB 25.3 MB/s eta 0:00:17     |█████████████████▍              | 479.4 MB 25.3 MB/s eta 0:00:16     |█████████████████▍              | 480.7 MB 6.3 MB/s eta 0:01:04     |█████████████████▌              | 481.3 MB 6.3 MB/s eta 0:01:04     |█████████████████▋              | 485.5 MB 6.3 MB/s eta 0:01:04     |█████████████████▋              | 486.1 MB 6.3 MB/s eta 0:01:03     |█████████████████▋              | 486.6 MB 6.3 MB/s eta 0:01:03     |█████████████████▊              | 487.8 MB 6.3 MB/s eta 0:01:03     |█████████████████▊              | 489.1 MB 6.3 MB/s eta 0:01:03     |██████████████████              | 498.3 MB 5.6 MB/s eta 0:01:08     |██████████████████▍             | 505.8 MB 5.6 MB/s eta 0:01:07     |██████████████████▍             | 506.8 MB 5.6 MB/s eta 0:01:07     |██████████████████▌             | 508.7 MB 25.6 MB/s eta 0:00:15     |██████████████████▌             | 509.6 MB 25.6 MB/s eta 0:00:15     |██████████████████▌             | 511.2 MB 25.6 MB/s eta 0:00:15     |██████████████████▋             | 513.5 MB 25.6 MB/s eta 0:00:15     |██████████████████▊             | 516.2 MB 25.6 MB/s eta 0:00:15     |██████████████████▉             | 518.0 MB 25.6 MB/s eta 0:00:15     |███████████████████             | 521.0 MB 25.6 MB/s eta 0:00:15     |███████████████████             | 524.0 MB 25.6 MB/s eta 0:00:14     |███████████████████▎            | 530.7 MB 13.0 MB/s eta 0:00:28     |███████████████████▎            | 531.9 MB 13.0 MB/s eta 0:00:27     |███████████████████▉            | 545.7 MB 13.0 MB/s eta 0:00:26     |████████████████████            | 554.2 MB 12.0 MB/s eta 0:00:28     |████████████████████▎           | 557.6 MB 12.0 MB/s eta 0:00:27     |████████████████████▍           | 561.3 MB 12.0 MB/s eta 0:00:27     |█████████████████████           | 577.0 MB 18.1 MB/s eta 0:00:17     |█████████████████████           | 580.4 MB 13.0 MB/s eta 0:00:24     |█████████████████████▏          | 581.9 MB 13.0 MB/s eta 0:00:24     |█████████████████████▏          | 584.2 MB 13.0 MB/s eta 0:00:23     |█████████████████████▎          | 586.3 MB 13.0 MB/s eta 0:00:23     |█████████████████████▎          | 587.6 MB 13.0 MB/s eta 0:00:23     |█████████████████████▊          | 597.5 MB 14.6 MB/s eta 0:00:20     |█████████████████████▊          | 598.4 MB 14.6 MB/s eta 0:00:20     |█████████████████████▉          | 600.6 MB 14.6 MB/s eta 0:00:20     |██████████████████████          | 603.3 MB 14.6 MB/s eta 0:00:20     |██████████████████████          | 604.8 MB 14.6 MB/s eta 0:00:19     |██████████████████████          | 605.5 MB 14.2 MB/s eta 0:00:20     |██████████████████████▏         | 610.5 MB 14.2 MB/s eta 0:00:20     |██████████████████████▏         | 611.4 MB 14.2 MB/s eta 0:00:19     |██████████████████████▎         | 613.9 MB 14.2 MB/s eta 0:00:19     |██████████████████████▌         | 619.2 MB 14.2 MB/s eta 0:00:19     |██████████████████████▋         | 622.5 MB 16.1 MB/s eta 0:00:17     |██████████████████████▊         | 627.0 MB 16.1 MB/s eta 0:00:16     |███████████████████████         | 634.2 MB 16.1 MB/s eta 0:00:16     |███████████████████████▏        | 638.6 MB 26.3 MB/s eta 0:00:10     |███████████████████████▎        | 641.0 MB 26.3 MB/s eta 0:00:10     |███████████████████████▊        | 654.6 MB 26.3 MB/s eta 0:00:09     |███████████████████████▉        | 656.6 MB 26.3 MB/s eta 0:00:09     |████████████████████████        | 658.6 MB 26.3 MB/s eta 0:00:09     |████████████████████████        | 660.7 MB 7.2 MB/s eta 0:00:31     |████████████████████████▏       | 666.3 MB 7.2 MB/s eta 0:00:30     |████████████████████████▍       | 673.3 MB 7.2 MB/s eta 0:00:29     |████████████████████████▋       | 677.8 MB 7.2 MB/s eta 0:00:29     |████████████████████████▋       | 678.7 MB 7.2 MB/s eta 0:00:29     |████████████████████████▉       | 684.3 MB 22.9 MB/s eta 0:00:09     |████████████████████████▉       | 685.1 MB 22.9 MB/s eta 0:00:09     |█████████████████████████       | 689.1 MB 22.9 MB/s eta 0:00:09     |█████████████████████████       | 690.7 MB 22.9 MB/s eta 0:00:09     |█████████████████████████▏      | 694.8 MB 15.3 MB/s eta 0:00:13     |█████████████████████████▍      | 698.3 MB 15.3 MB/s eta 0:00:12     |█████████████████████████▍      | 699.8 MB 15.3 MB/s eta 0:00:12     |█████████████████████████▍      | 700.5 MB 15.3 MB/s eta 0:00:12     |█████████████████████████▌      | 703.4 MB 15.3 MB/s eta 0:00:12     |█████████████████████████▌      | 704.0 MB 15.3 MB/s eta 0:00:12     |█████████████████████████▋      | 704.7 MB 15.3 MB/s eta 0:00:12     |█████████████████████████▊      | 707.6 MB 14.4 MB/s eta 0:00:13     |█████████████████████████▊      | 709.0 MB 14.4 MB/s eta 0:00:13     |██████████████████████████      | 714.8 MB 14.4 MB/s eta 0:00:12     |██████████████████████████      | 716.7 MB 14.4 MB/s eta 0:00:12     |██████████████████████████▏     | 719.9 MB 14.4 MB/s eta 0:00:12     |██████████████████████████▍     | 726.8 MB 11.1 MB/s eta 0:00:15     |██████████████████████████▍     | 728.4 MB 11.1 MB/s eta 0:00:14     |██████████████████████████▊     | 735.6 MB 13.2 MB/s eta 0:00:12     |██████████████████████████▊     | 736.1 MB 13.2 MB/s eta 0:00:12     |██████████████████████████▊     | 737.8 MB 13.2 MB/s eta 0:00:11     |██████████████████████████▉     | 740.3 MB 13.2 MB/s eta 0:00:11     |███████████████████████████     | 741.2 MB 13.2 MB/s eta 0:00:11     |███████████████████████████     | 743.4 MB 13.2 MB/s eta 0:00:11     |███████████████████████████     | 744.6 MB 10.6 MB/s eta 0:00:13     |███████████████████████████     | 745.7 MB 10.6 MB/s eta 0:00:13     |███████████████████████████     | 746.3 MB 10.6 MB/s eta 0:00:13��███     | 746.9 MB 10.6 MB/s eta 0:00:13     |███████████████████████████▏    | 747.5 MB 10.6 MB/s eta 0:00:13"
     ]
    },
    {
     "name": "stdout",
     "output_type": "stream",
     "text": [
      "\u001b[K     |████████████████████████████████| 881.9 MB 13 kB/s s eta 0:00:01��█████████████▊    | 762.5 MB 11.8 MB/s eta 0:00:11     |███████████████████████████▊    | 763.1 MB 11.8 MB/s eta 0:00:11     |████████████████████████████▏   | 774.9 MB 5.1 MB/s eta 0:00:22     |████████████████████████████▏   | 775.5 MB 5.1 MB/s eta 0:00:21     |████████████████████████████▏   | 776.8 MB 5.1 MB/s eta 0:00:21     |████████████████████████████▎   | 778.0 MB 5.1 MB/s eta 0:00:21     |████████████████████████████▍   | 782.2 MB 4.5 MB/s eta 0:00:22     |████████████████████████████▉   | 793.4 MB 10.7 MB/s eta 0:00:09     |████████████████████████████▉   | 794.2 MB 10.7 MB/s eta 0:00:09     |█████████████████████████████   | 801.5 MB 5.5 MB/s eta 0:00:15     |█████████████████████████████▏  | 802.6 MB 5.5 MB/s eta 0:00:15     |█████████████████████████████▏  | 803.3 MB 5.5 MB/s eta 0:00:15     |█████████████████████████████▎  | 808.3 MB 5.5 MB/s eta 0:00:14     |█████████████████████████████▍  | 809.1 MB 5.5 MB/s eta 0:00:14     |█████████████████████████████▋  | 816.8 MB 13.3 MB/s eta 0:00:05     |█████████████████████████████▋  | 817.4 MB 13.3 MB/s eta 0:00:05     |█████████████████████████████▊  | 819.5 MB 13.3 MB/s eta 0:00:05     |█████████████████████████████▊  | 820.2 MB 13.3 MB/s eta 0:00:05     |██████████████████████████████  | 824.1 MB 13.3 MB/s eta 0:00:05     |██████████████████████████████  | 824.9 MB 13.3 MB/s eta 0:00:05     |██████████████████████████████▏ | 831.6 MB 5.5 MB/s eta 0:00:10     |██████████████████████████████▎ | 833.6 MB 5.5 MB/s eta 0:00:09     |██████████████████████████████▎ | 834.9 MB 5.5 MB/s eta 0:00:09     |██████████████████████████████▌ | 839.1 MB 5.5 MB/s eta 0:00:08�█▉ | 850.1 MB 10.5 MB/s eta 0:00:04     |████████████████████████████████| 881.7 MB 11.4 MB/s eta 0:00:01\n",
      "\u001b[?25hCollecting subword-nmt<0.4.0,>=0.3.6\n",
      "  Downloading subword_nmt-0.3.8-py3-none-any.whl (27 kB)\n",
      "Requirement already satisfied: numpy<2.0.0,>=1.15.4 in /usr/local/lib/python3.6/dist-packages (from laserembeddings) (1.19.4)\n",
      "Collecting transliterate==1.10.2\n",
      "  Downloading transliterate-1.10.2-py2.py3-none-any.whl (45 kB)\n",
      "\u001b[K     |████████████████████████████████| 45 kB 1.5 MB/s eta 0:00:01\n",
      "\u001b[?25hCollecting sacremoses==0.0.35\n",
      "  Downloading sacremoses-0.0.35.tar.gz (859 kB)\n",
      "\u001b[K     |████████████████████████████████| 859 kB 9.4 MB/s eta 0:00:01\n",
      "\u001b[?25hRequirement already satisfied: six in /usr/local/lib/python3.6/dist-packages (from sacremoses==0.0.35->laserembeddings) (1.15.0)\n",
      "Collecting click\n",
      "  Downloading click-8.0.4-py3-none-any.whl (97 kB)\n",
      "\u001b[K     |████████████████████████████████| 97 kB 4.5 MB/s  eta 0:00:01\n",
      "\u001b[?25hRequirement already satisfied: joblib in /usr/local/lib/python3.6/dist-packages (from sacremoses==0.0.35->laserembeddings) (1.0.1)\n",
      "Collecting tqdm\n",
      "  Downloading tqdm-4.64.0-py2.py3-none-any.whl (78 kB)\n",
      "\u001b[K     |████████████████████████████████| 78 kB 3.6 MB/s eta 0:00:01\n",
      "\u001b[?25hCollecting mock\n",
      "  Downloading mock-4.0.3-py3-none-any.whl (28 kB)\n",
      "Collecting dataclasses\n",
      "  Downloading dataclasses-0.8-py3-none-any.whl (19 kB)\n",
      "Requirement already satisfied: typing-extensions in /usr/local/lib/python3.6/dist-packages (from torch<2.0.0,>=1.0.1.post2->laserembeddings) (3.7.4.3)\n",
      "Requirement already satisfied: importlib-metadata in /usr/local/lib/python3.6/dist-packages (from click->sacremoses==0.0.35->laserembeddings) (3.3.0)\n",
      "Requirement already satisfied: zipp>=0.5 in /usr/local/lib/python3.6/dist-packages (from importlib-metadata->click->sacremoses==0.0.35->laserembeddings) (3.4.0)\n",
      "Collecting importlib-resources\n",
      "  Downloading importlib_resources-5.4.0-py3-none-any.whl (28 kB)\n",
      "Building wheels for collected packages: sacremoses\n",
      "  Building wheel for sacremoses (setup.py) ... \u001b[?25ldone\n",
      "\u001b[?25h  Created wheel for sacremoses: filename=sacremoses-0.0.35-py3-none-any.whl size=883999 sha256=3352c8bc05eace9b2fdb37da13f565852f0a84beca1a89c06f1261484f0c9284\n",
      "  Stored in directory: /root/.cache/pip/wheels/cc/1c/a7/137ec649e0276d453fd870aba3b43e0734d087406a33ce7596\n",
      "Successfully built sacremoses\n",
      "Installing collected packages: importlib-resources, tqdm, mock, dataclasses, click, transliterate, torch, subword-nmt, sacremoses, laserembeddings\n",
      "Successfully installed click-8.0.4 dataclasses-0.8 importlib-resources-5.4.0 laserembeddings-1.1.2 mock-4.0.3 sacremoses-0.0.35 subword-nmt-0.3.8 torch-1.10.2 tqdm-4.64.0 transliterate-1.10.2\n",
      "\u001b[33mWARNING: You are using pip version 21.0.1; however, version 21.3.1 is available.\n",
      "You should consider upgrading via the '/usr/bin/python3 -m pip install --upgrade pip' command.\u001b[0m\n"
     ]
    }
   ],
   "source": [
    "!pip install laserembeddings"
   ]
  },
  {
   "cell_type": "code",
   "execution_count": 2,
   "metadata": {},
   "outputs": [
    {
     "name": "stdout",
     "output_type": "stream",
     "text": [
      "Collecting transformers\n",
      "  Downloading transformers-4.18.0-py3-none-any.whl (4.0 MB)\n",
      "\u001b[K     |████████████████████████████████| 4.0 MB 5.9 MB/s eta 0:00:01\n",
      "\u001b[?25hRequirement already satisfied: pyyaml>=5.1 in /usr/local/lib/python3.6/dist-packages (from transformers) (5.4.1)\n",
      "Collecting regex!=2019.12.17\n",
      "  Downloading regex-2022.4.24-cp36-cp36m-manylinux_2_17_x86_64.manylinux2014_x86_64.whl (749 kB)\n",
      "\u001b[K     |████████████████████████████████| 749 kB 14.0 MB/s eta 0:00:01\n",
      "\u001b[?25hRequirement already satisfied: numpy>=1.17 in /usr/local/lib/python3.6/dist-packages (from transformers) (1.19.4)\n",
      "Requirement already satisfied: requests in /usr/local/lib/python3.6/dist-packages (from transformers) (2.25.0)\n",
      "Requirement already satisfied: sacremoses in /usr/local/lib/python3.6/dist-packages (from transformers) (0.0.35)\n",
      "Requirement already satisfied: packaging>=20.0 in /usr/local/lib/python3.6/dist-packages (from transformers) (20.8)\n",
      "Requirement already satisfied: importlib-metadata in /usr/local/lib/python3.6/dist-packages (from transformers) (3.3.0)\n",
      "Collecting huggingface-hub<1.0,>=0.1.0\n",
      "  Downloading huggingface_hub-0.4.0-py3-none-any.whl (67 kB)\n",
      "\u001b[K     |████████████████████████████████| 67 kB 3.7 MB/s  eta 0:00:01\n",
      "\u001b[?25hRequirement already satisfied: tqdm>=4.27 in /usr/local/lib/python3.6/dist-packages (from transformers) (4.64.0)\n",
      "Collecting tokenizers!=0.11.3,<0.13,>=0.11.1\n",
      "  Downloading tokenizers-0.12.1-cp36-cp36m-manylinux_2_12_x86_64.manylinux2010_x86_64.whl (6.6 MB)\n",
      "\u001b[K     |████████████████████████████████| 6.6 MB 34.3 MB/s eta 0:00:01     |██████████████▍                 | 3.0 MB 34.3 MB/s eta 0:00:01\n",
      "\u001b[?25hRequirement already satisfied: dataclasses in /usr/local/lib/python3.6/dist-packages (from transformers) (0.8)\n",
      "Collecting filelock\n",
      "  Downloading filelock-3.4.1-py3-none-any.whl (9.9 kB)\n",
      "Collecting packaging>=20.0\n",
      "  Downloading packaging-21.3-py3-none-any.whl (40 kB)\n",
      "\u001b[K     |████████████████████████████████| 40 kB 3.2 MB/s  eta 0:00:01\n",
      "\u001b[?25hRequirement already satisfied: typing-extensions>=3.7.4.3 in /usr/local/lib/python3.6/dist-packages (from huggingface-hub<1.0,>=0.1.0->transformers) (3.7.4.3)\n",
      "Requirement already satisfied: pyparsing!=3.0.5,>=2.0.2 in /usr/local/lib/python3.6/dist-packages (from packaging>=20.0->transformers) (2.4.7)\n",
      "Requirement already satisfied: importlib-resources in /usr/local/lib/python3.6/dist-packages (from tqdm>=4.27->transformers) (5.4.0)\n",
      "Requirement already satisfied: zipp>=0.5 in /usr/local/lib/python3.6/dist-packages (from importlib-metadata->transformers) (3.4.0)\n",
      "Requirement already satisfied: certifi>=2017.4.17 in /usr/local/lib/python3.6/dist-packages (from requests->transformers) (2020.12.5)\n",
      "Requirement already satisfied: urllib3<1.27,>=1.21.1 in /usr/local/lib/python3.6/dist-packages (from requests->transformers) (1.26.2)\n",
      "Requirement already satisfied: chardet<4,>=3.0.2 in /usr/local/lib/python3.6/dist-packages (from requests->transformers) (3.0.4)\n",
      "Requirement already satisfied: idna<3,>=2.5 in /usr/lib/python3/dist-packages (from requests->transformers) (2.6)\n",
      "Requirement already satisfied: six in /usr/local/lib/python3.6/dist-packages (from sacremoses->transformers) (1.15.0)\n",
      "Requirement already satisfied: click in /usr/local/lib/python3.6/dist-packages (from sacremoses->transformers) (8.0.4)\n",
      "Requirement already satisfied: joblib in /usr/local/lib/python3.6/dist-packages (from sacremoses->transformers) (1.0.1)\n",
      "Installing collected packages: packaging, filelock, tokenizers, regex, huggingface-hub, transformers\n",
      "  Attempting uninstall: packaging\n",
      "    Found existing installation: packaging 20.8\n",
      "    Uninstalling packaging-20.8:\n",
      "      Successfully uninstalled packaging-20.8\n",
      "Successfully installed filelock-3.4.1 huggingface-hub-0.4.0 packaging-21.3 regex-2022.4.24 tokenizers-0.12.1 transformers-4.18.0\n",
      "\u001b[33mWARNING: You are using pip version 21.0.1; however, version 21.3.1 is available.\n",
      "You should consider upgrading via the '/usr/bin/python3 -m pip install --upgrade pip' command.\u001b[0m\n"
     ]
    }
   ],
   "source": [
    "!pip install transformers"
   ]
  },
  {
   "cell_type": "code",
   "execution_count": 3,
   "metadata": {},
   "outputs": [
    {
     "name": "stdout",
     "output_type": "stream",
     "text": [
      "Collecting tensorflow_text\n",
      "  Downloading tensorflow_text-2.6.0-cp36-cp36m-manylinux1_x86_64.whl (4.4 MB)\n",
      "\u001b[K     |████████████████████████████████| 4.4 MB 5.9 MB/s eta 0:00:01     |▉                               | 112 kB 5.9 MB/s eta 0:00:01\n",
      "\u001b[?25hCollecting tensorflow<2.7,>=2.6.0\n",
      "  Downloading tensorflow-2.6.2-cp36-cp36m-manylinux2010_x86_64.whl (458.3 MB)\n"
     ]
    },
    {
     "name": "stdout",
     "output_type": "stream",
     "text": [
      "\u001b[K     |██████████████████████▌         | 322.5 MB 14.9 MB/s eta 0:00:10    |▉                               | 12.5 MB 28.6 MB/s eta 0:00:16     |█▋                              | 22.4 MB 28.6 MB/s eta 0:00:16     |███▌                            | 49.9 MB 28.8 MB/s eta 0:00:15     |███▋                            | 51.4 MB 28.8 MB/s eta 0:00:15     |████                            | 57.0 MB 28.8 MB/s eta 0:00:14     |████                            | 57.8 MB 28.8 MB/s eta 0:00:14     |████▍                           | 63.5 MB 9.8 MB/s eta 0:00:41     |████▋                           | 66.7 MB 9.8 MB/s eta 0:00:40     |████▊                           | 67.6 MB 9.8 MB/s eta 0:00:40     |████▊                           | 68.0 MB 9.8 MB/s eta 0:00:40     |████▉                           | 68.5 MB 9.8 MB/s eta 0:00:40     |█████                           | 70.0 MB 4.2 MB/s eta 0:01:34     |█████                           | 70.5 MB 4.2 MB/s eta 0:01:34     |█████                           | 70.9 MB 4.2 MB/s eta 0:01:34     |█████                           | 71.3 MB 4.2 MB/s eta 0:01:34     |█████                           | 72.3 MB 4.2 MB/s eta 0:01:33     |█████▎                          | 76.3 MB 4.2 MB/s eta 0:01:33     |█████▌                          | 78.3 MB 11.3 MB/s eta 0:00:34     |█████▋                          | 80.6 MB 11.3 MB/s eta 0:00:34     |█████▉                          | 82.9 MB 11.3 MB/s eta 0:00:34     |█████▉                          | 83.8 MB 11.3 MB/s eta 0:00:34     |██████                          | 84.9 MB 11.3 MB/s eta 0:00:34     |██████▏                         | 88.0 MB 8.3 MB/s eta 0:00:45     |██████▏                         | 88.6 MB 8.3 MB/s eta 0:00:45     |██████▎                         | 90.3 MB 8.3 MB/s eta 0:00:45     |██████▍                         | 90.9 MB 8.3 MB/s eta 0:00:45     |██████▍                         | 91.5 MB 8.3 MB/s eta 0:00:45     |██████▋                         | 94.3 MB 8.3 MB/s eta 0:00:45     |██████▋                         | 95.0 MB 8.3 MB/s eta 0:00:44     |██████▉                         | 97.9 MB 8.3 MB/s eta 0:00:44     |███████▎                        | 103.8 MB 13.0 MB/s eta 0:00:28     |███████▍                        | 106.5 MB 13.0 MB/s eta 0:00:28     |███████▌                        | 108.1 MB 13.0 MB/s eta 0:00:27     |███████▋                        | 108.7 MB 13.0 MB/s eta 0:00:27     |███████▊                        | 110.0 MB 11.5 MB/s eta 0:00:31     |███████▊                        | 111.4 MB 11.5 MB/s eta 0:00:31     |███████▉                        | 112.1 MB 11.5 MB/s eta 0:00:31     |████████                        | 114.3 MB 11.5 MB/s eta 0:00:31     |████████▏                       | 116.7 MB 11.5 MB/s eta 0:00:30     |████████▏                       | 117.5 MB 11.5 MB/s eta 0:00:30     |████████▌                       | 121.1 MB 11.5 MB/s eta 0:00:30     |████████▌                       | 122.1 MB 11.5 MB/s eta 0:00:30     |████████▋                       | 123.9 MB 11.5 MB/s eta 0:00:30     |█████████▏                      | 131.3 MB 22.4 MB/s eta 0:00:15     |█████████▎                      | 132.1 MB 22.4 MB/s eta 0:00:15     |█████████▌                      | 136.6 MB 22.4 MB/s eta 0:00:15     |█████████▋                      | 137.5 MB 22.4 MB/s eta 0:00:15     |█████████▊                      | 138.5 MB 22.4 MB/s eta 0:00:15     |█████████▊                      | 139.5 MB 22.4 MB/s eta 0:00:15     |█████████▉                      | 140.5 MB 21.7 MB/s eta 0:00:15     |██████████                      | 143.9 MB 21.7 MB/s eta 0:00:15     |██████████▏                     | 146.4 MB 21.7 MB/s eta 0:00:15     |██████████▎                     | 147.2 MB 21.7 MB/s eta 0:00:15     |██████████▍                     | 148.1 MB 21.7 MB/s eta 0:00:15     |██████████▋                     | 151.6 MB 21.7 MB/s eta 0:00:15     |███████████▏                    | 160.2 MB 18.0 MB/s eta 0:00:17     |███████████▍                    | 162.7 MB 18.0 MB/s eta 0:00:17     |███████████▊                    | 167.8 MB 18.0 MB/s eta 0:00:17     |███████████▉                    | 170.0 MB 18.0 MB/s eta 0:00:16     |████████████                    | 173.1 MB 13.8 MB/s eta 0:00:21     |████████████▏                   | 174.7 MB 13.8 MB/s eta 0:00:21     |████████████▍                   | 177.2 MB 13.8 MB/s eta 0:00:21     |████████████▌                   | 179.1 MB 13.8 MB/s eta 0:00:21     |████████████▋                   | 180.0 MB 13.8 MB/s eta 0:00:21     |█████████████▏                  | 189.0 MB 18.5 MB/s eta 0:00:15     |█████████████▌                  | 193.5 MB 18.5 MB/s eta 0:00:15     |█████████████▊                  | 196.2 MB 18.5 MB/s eta 0:00:15     |██████████████                  | 199.2 MB 18.5 MB/s eta 0:00:14     |██████████████                  | 200.9 MB 18.5 MB/s eta 0:00:14     |██████████████                  | 201.7 MB 16.3 MB/s eta 0:00:16     |██████████████▎                 | 205.1 MB 16.3 MB/s eta 0:00:16     |██████████████▌                 | 207.1 MB 16.3 MB/s eta 0:00:16     |██████████████▌                 | 207.7 MB 16.3 MB/s eta 0:00:16     |██████████████▊                 | 211.4 MB 16.3 MB/s eta 0:00:16     |██████████████▉                 | 212.1 MB 16.3 MB/s eta 0:00:16     |███████████████                 | 213.9 MB 11.2 MB/s eta 0:00:22     |███████████████▏                | 217.5 MB 11.2 MB/s eta 0:00:22     |███████████████▎                | 218.2 MB 11.2 MB/s eta 0:00:22     |███████████████▍                | 220.7 MB 11.2 MB/s eta 0:00:22     |███████████████▌                | 221.5 MB 11.2 MB/s eta 0:00:22     |███████████████▊                | 225.1 MB 11.2 MB/s eta 0:00:21     |███████████████▊                | 225.9 MB 11.2 MB/s eta 0:00:21     |███████████████▉                | 226.6 MB 11.2 MB/s eta 0:00:21     |████████████████▏               | 230.9 MB 5.4 MB/s eta 0:00:42     |████████████████▎               | 233.4 MB 5.4 MB/s eta 0:00:42     |████████████████▍               | 234.0 MB 5.4 MB/s eta 0:00:42     |████████████████▊               | 239.0 MB 10.8 MB/s eta 0:00:21     |████████████████▉               | 240.5 MB 10.8 MB/s eta 0:00:21     |█████████████████               | 243.4 MB 10.8 MB/s eta 0:00:20     |█████████████████               | 244.7 MB 10.8 MB/s eta 0:00:20     |█████████████████▏              | 245.3 MB 10.8 MB/s eta 0:00:20     |█████████████████▎              | 247.2 MB 10.8 MB/s eta 0:00:20     |█████████████████▍              | 249.7 MB 17.1 MB/s eta 0:00:13     |█████████████████▌              | 250.3 MB 17.1 MB/s eta 0:00:13     |█████████████████▋              | 252.6 MB 17.1 MB/s eta 0:00:12     |█████████████████▊              | 253.3 MB 17.1 MB/s eta 0:00:12     |█████████████████▊              | 254.6 MB 17.1 MB/s eta 0:00:12     |██████████████████▎             | 261.6 MB 17.1 MB/s eta 0:00:12     |██████████████████▌             | 264.2 MB 8.4 MB/s eta 0:00:24     |██████████████████▋             | 267.0 MB 8.4 MB/s eta 0:00:23     |██████████████████▉             | 270.2 MB 8.4 MB/s eta 0:00:23     |███████████████████▏            | 274.9 MB 8.4 MB/s eta 0:00:22     |███████████████████▍            | 278.4 MB 13.4 MB/s eta 0:00:14     |████████████████████▎           | 289.6 MB 13.4 MB/s eta 0:00:13     |█████████████████████▏          | 303.6 MB 17.5 MB/s eta 0:00:09     |█████████████████████▋          | 309.2 MB 15.5 MB/s eta 0:00:10     |█████████████████████▋          | 310.0 MB 15.5 MB/s eta 0:00:10     |█████████████████████▉          | 313.0 MB 15.5 MB/s eta 0:00:10     |██████████████████████          | 314.9 MB 15.5 MB/s eta 0:00:10     |██████████████████████          | 315.6 MB 15.5 MB/s eta 0:00:10     |██████████████████████          | 316.3 MB 15.5 MB/s eta 0:00:10     |██████████████████████▌         | 321.7 MB 14.9 MB/s eta 0:00:10\r",
      "\u001b[K     |██████████████████████▌         | 322.5 MB 14.9 MB/s eta 0:00:10\r",
      "\u001b[K     |██████████████████████▌         | 322.5 MB 14.9 MB/s eta 0:00:10\r",
      "\u001b[K     |██████████████████████▌         | 322.5 MB 14.9 MB/s eta 0:00:10\r",
      "\u001b[K     |██████████████████████▌         | 322.5 MB 14.9 MB/s eta 0:00:10\r",
      "\u001b[K     |██████████████████████▌         | 322.6 MB 14.9 MB/s eta 0:00:10\r",
      "\u001b[K     |██████████████████████▌         | 322.6 MB 14.9 MB/s eta 0:00:10\r",
      "\u001b[K     |██████████████████████▌         | 322.6 MB 14.9 MB/s eta 0:00:10\r",
      "\u001b[K     |██████████████████████▌         | 322.6 MB 14.9 MB/s eta 0:00:10\r",
      "\u001b[K     |██████████████████████▌         | 322.6 MB 14.9 MB/s eta 0:00:10\r",
      "\u001b[K     |██████████████████████▌         | 322.6 MB 14.9 MB/s eta 0:00:10\r",
      "\u001b[K     |██████████████████████▌         | 322.6 MB 14.9 MB/s eta 0:00:10\r",
      "\u001b[K     |██████████████████████▌         | 322.6 MB 14.9 MB/s eta 0:00:10\r",
      "\u001b[K     |██████████████████████▌         | 322.6 MB 14.9 MB/s eta 0:00:10\r",
      "\u001b[K     |██████████████████████▌         | 322.7 MB 14.9 MB/s eta 0:00:10\r",
      "\u001b[K     |██████████████████████▌         | 322.7 MB 14.9 MB/s eta 0:00:10\r",
      "\u001b[K     |██████████████████████▌         | 322.7 MB 14.9 MB/s eta 0:00:10\r",
      "\u001b[K     |██████████████████████▌         | 322.7 MB 14.9 MB/s eta 0:00:10\r",
      "\u001b[K     |██████████████████████▌         | 322.7 MB 14.9 MB/s eta 0:00:10\r",
      "\u001b[K     |██████████████████████▌         | 322.7 MB 14.9 MB/s eta 0:00:10\r",
      "\u001b[K     |██████████████████████▌         | 322.7 MB 14.9 MB/s eta 0:00:10\r",
      "\u001b[K     |██████████████████████▌         | 322.7 MB 14.9 MB/s eta 0:00:10\r",
      "\u001b[K     |██████████████████████▌         | 322.7 MB 14.9 MB/s eta 0:00:10\r",
      "\u001b[K     |██████████████████████▌         | 322.7 MB 14.9 MB/s eta 0:00:10\r",
      "\u001b[K     |██████████████████████▌         | 322.8 MB 14.9 MB/s eta 0:00:10\r",
      "\u001b[K     |██████████████████████▌         | 322.8 MB 14.9 MB/s eta 0:00:10\r",
      "\u001b[K     |██████████████████████▌         | 322.8 MB 14.9 MB/s eta 0:00:10\r",
      "\u001b[K     |██████████████████████▌         | 322.8 MB 14.9 MB/s eta 0:00:10\r",
      "\u001b[K     |██████████████████████▌         | 322.8 MB 14.9 MB/s eta 0:00:10\r",
      "\u001b[K     |██████████████████████▌         | 322.8 MB 14.9 MB/s eta 0:00:10\r",
      "\u001b[K     |██████████████████████▌         | 322.8 MB 14.9 MB/s eta 0:00:10\r",
      "\u001b[K     |██████████████████████▌         | 322.8 MB 14.9 MB/s eta 0:00:10\r",
      "\u001b[K     |██████████████████████▌         | 322.8 MB 14.9 MB/s eta 0:00:10\r",
      "\u001b[K     |██████████████████████▌         | 322.8 MB 14.9 MB/s eta 0:00:10\r",
      "\u001b[K     |██████████████████████▌         | 322.9 MB 14.9 MB/s eta 0:00:10\r",
      "\u001b[K     |██████████████████████▌         | 322.9 MB 14.9 MB/s eta 0:00:10\r",
      "\u001b[K     |██████████████████████▌         | 322.9 MB 14.9 MB/s eta 0:00:10\r",
      "\u001b[K     |██████████████████████▌         | 322.9 MB 14.9 MB/s eta 0:00:10\r",
      "\u001b[K     |██████████████████████▌         | 322.9 MB 14.9 MB/s eta 0:00:10\r",
      "\u001b[K     |██████████████████████▌         | 322.9 MB 14.9 MB/s eta 0:00:10\r",
      "\u001b[K     |██████████████████████▌         | 322.9 MB 14.9 MB/s eta 0:00:10\r",
      "\u001b[K     |██████████████████████▌         | 322.9 MB 14.9 MB/s eta 0:00:10\r",
      "\u001b[K     |██████████████████████▌         | 322.9 MB 14.9 MB/s eta 0:00:10\r",
      "\u001b[K     |██████████████████████▌         | 322.9 MB 14.9 MB/s eta 0:00:10\r",
      "\u001b[K     |██████████████████████▌         | 323.0 MB 14.9 MB/s eta 0:00:10\r",
      "\u001b[K     |██████████████████████▌         | 323.0 MB 14.9 MB/s eta 0:00:10\r",
      "\u001b[K     |██████████████████████▌         | 323.0 MB 14.9 MB/s eta 0:00:10\r",
      "\u001b[K     |██████████████████████▌         | 323.0 MB 14.9 MB/s eta 0:00:10\r",
      "\u001b[K     |██████████████████████▌         | 323.0 MB 14.9 MB/s eta 0:00:10\r",
      "\u001b[K     |██████████████████████▌         | 323.0 MB 14.9 MB/s eta 0:00:10\r",
      "\u001b[K     |██████████████████████▌         | 323.0 MB 14.9 MB/s eta 0:00:10\r",
      "\u001b[K     |██████████████████████▋         | 323.0 MB 14.9 MB/s eta 0:00:10\r",
      "\u001b[K     |██████████████████████▋         | 323.0 MB 14.9 MB/s eta 0:00:10\r",
      "\u001b[K     |██████████████████████▋         | 323.1 MB 14.9 MB/s eta 0:00:10\r",
      "\u001b[K     |██████████████████████▋         | 323.1 MB 14.9 MB/s eta 0:00:10\r",
      "\u001b[K     |██████████████████████▋         | 323.1 MB 14.9 MB/s eta 0:00:10\r",
      "\u001b[K     |██████████████████████▋         | 323.1 MB 14.9 MB/s eta 0:00:10\r",
      "\u001b[K     |██████████████████████▋         | 323.1 MB 14.9 MB/s eta 0:00:10\r",
      "\u001b[K     |██████████████████████▋         | 323.1 MB 14.9 MB/s eta 0:00:10\r",
      "\u001b[K     |██████████████████████▋         | 323.1 MB 14.9 MB/s eta 0:00:10\r",
      "\u001b[K     |██████████████████████▋         | 323.1 MB 14.9 MB/s eta 0:00:10\r",
      "\u001b[K     |██████████████████████▋         | 323.1 MB 14.9 MB/s eta 0:00:10\r",
      "\u001b[K     |██████████████████████▋         | 323.1 MB 14.9 MB/s eta 0:00:10\r",
      "\u001b[K     |██████████████████████▋         | 323.2 MB 14.9 MB/s eta 0:00:10\r",
      "\u001b[K     |██████████████████████▋         | 323.2 MB 14.9 MB/s eta 0:00:10\r",
      "\u001b[K     |██████████████████████▋         | 323.2 MB 14.9 MB/s eta 0:00:10\r",
      "\u001b[K     |██████████████████████▋         | 323.2 MB 14.9 MB/s eta 0:00:10\r",
      "\u001b[K     |██████████████████████▋         | 323.2 MB 14.9 MB/s eta 0:00:10\r",
      "\u001b[K     |██████████████████████▋         | 323.2 MB 14.9 MB/s eta 0:00:10\r",
      "\u001b[K     |██████████████████████▋         | 323.2 MB 14.9 MB/s eta 0:00:10\r",
      "\u001b[K     |██████████████████████▋         | 323.2 MB 14.9 MB/s eta 0:00:10\r",
      "\u001b[K     |██████████████████████▋         | 323.2 MB 14.9 MB/s eta 0:00:10\r",
      "\u001b[K     |██████████████████████▋         | 323.2 MB 14.9 MB/s eta 0:00:10\r",
      "\u001b[K     |██████████████████████▋         | 323.3 MB 14.9 MB/s eta 0:00:10\r",
      "\u001b[K     |██████████████████████▋         | 323.3 MB 14.9 MB/s eta 0:00:10\r",
      "\u001b[K     |██████████████████████▋         | 323.3 MB 14.9 MB/s eta 0:00:10\r",
      "\u001b[K     |██████████████████████▋         | 323.3 MB 14.9 MB/s eta 0:00:10\r",
      "\u001b[K     |██████████████████████▋         | 323.3 MB 14.9 MB/s eta 0:00:10\r",
      "\u001b[K     |██████████████████████▋         | 323.3 MB 14.9 MB/s eta 0:00:10\r",
      "\u001b[K     |██████████████████████▋         | 323.3 MB 14.9 MB/s eta 0:00:10\r",
      "\u001b[K     |██████████████████████▋         | 323.3 MB 14.9 MB/s eta 0:00:10\r",
      "\u001b[K     |██████████████████████▋         | 323.3 MB 14.9 MB/s eta 0:00:10\r",
      "\u001b[K     |██████████████████████▋         | 323.3 MB 14.9 MB/s eta 0:00:10\r",
      "\u001b[K     |██████████████████████▋         | 323.4 MB 14.9 MB/s eta 0:00:10\r",
      "\u001b[K     |██████████████████████▋         | 323.4 MB 14.9 MB/s eta 0:00:10\r",
      "\u001b[K     |██████████████████████▋         | 323.4 MB 14.9 MB/s eta 0:00:10\r",
      "\u001b[K     |██████████████████████▋         | 323.4 MB 14.9 MB/s eta 0:00:10\r",
      "\u001b[K     |██████████████████████▋         | 323.4 MB 14.9 MB/s eta 0:00:10"
     ]
    },
    {
     "name": "stdout",
     "output_type": "stream",
     "text": [
      "\u001b[K     |████████████████████████████████| 458.3 MB 23 kB/s s eta 0:00:01     |██████████████████████▊         | 325.2 MB 14.9 MB/s eta 0:00:09     |███████████████████████         | 327.9 MB 14.9 MB/s eta 0:00:09     |███████████████████████▏        | 332.4 MB 14.9 MB/s eta 0:00:09     |███████████████████████▊        | 339.9 MB 11.0 MB/s eta 0:00:11     |███████████████████████▉        | 340.9 MB 11.0 MB/s eta 0:00:11     |████████████████████████▏       | 345.9 MB 11.0 MB/s eta 0:00:11     |████████████████████████▊       | 354.0 MB 7.0 MB/s eta 0:00:15     |████████████████████████▉       | 354.8 MB 7.0 MB/s eta 0:00:15     |█████████████████████████▏      | 360.6 MB 7.0 MB/s eta 0:00:15     |█████████████████████████▍      | 363.4 MB 7.0 MB/s eta 0:00:14     |█████████████████████████▋      | 366.1 MB 11.8 MB/s eta 0:00:08     |█████████████████████████▋      | 367.5 MB 11.8 MB/s eta 0:00:08     |█████████████████████████▉      | 369.9 MB 11.8 MB/s eta 0:00:08     |██████████████████████████▏     | 374.1 MB 11.8 MB/s eta 0:00:08     |██████████████████████████▏     | 375.0 MB 11.8 MB/s eta 0:00:08     |██████████████████████████▋     | 380.5 MB 17.5 MB/s eta 0:00:05     |██████████████████████████▊     | 382.8 MB 17.5 MB/s eta 0:00:05     |██████████████████████████▉     | 383.6 MB 17.5 MB/s eta 0:00:05     |███████████████████████████     | 386.3 MB 17.5 MB/s eta 0:00:05     |███████████████████████████     | 387.5 MB 17.5 MB/s eta 0:00:05     |███████████████████████████▌    | 393.3 MB 18.7 MB/s eta 0:00:04     |███████████████████████████▋    | 395.0 MB 18.7 MB/s eta 0:00:04     |███████████████████████████▋    | 395.8 MB 18.7 MB/s eta 0:00:04     |███████████████████████████▉    | 399.4 MB 18.7 MB/s eta 0:00:04     |████████████████████████████    | 400.4 MB 18.7 MB/s eta 0:00:04     |████████████████████████████    | 401.3 MB 18.7 MB/s eta 0:00:04     |████████████████████████████▌   | 408.1 MB 18.7 MB/s eta 0:00:03     |████████████████████████████▋   | 409.7 MB 8.8 MB/s eta 0:00:06     |█████████████████████████████   | 415.8 MB 8.8 MB/s eta 0:00:05     |█████████████████████████████▎  | 418.7 MB 8.8 MB/s eta 0:00:05     |█████████████████████████████▋  | 423.6 MB 8.8 MB/s eta 0:00:04     |██████████████████████████████▏ | 431.5 MB 13.8 MB/s eta 0:00:02     |██████████████████████████████▎ | 433.5 MB 13.8 MB/s eta 0:00:02     |██████████████████████████████▊ | 440.2 MB 13.8 MB/s eta 0:00:02     |██████████████████████████████▉ | 441.0 MB 12.0 MB/s eta 0:00:02     |███████████████████████████████ | 442.7 MB 12.0 MB/s eta 0:00:02     |███████████████████████████████ | 444.4 MB 12.0 MB/s eta 0:00:02     |███████████████████████████████▍| 448.8 MB 12.0 MB/s eta 0:00:01     |███████████████████████████████▌| 451.0 MB 12.0 MB/s eta 0:00:01     |███████████████████████████████▋| 452.5 MB 12.0 MB/s eta 0:00:01     |███████████████████████████████▊| 454.2 MB 12.0 MB/s eta 0:00:01     |███████████████████████████████▊| 455.0 MB 21.0 MB/s eta 0:00:01     |████████████████████████████████| 457.7 MB 21.0 MB/s eta 0:00:01\n",
      "\u001b[?25hCollecting tensorflow-hub>=0.8.0\n",
      "  Downloading tensorflow_hub-0.12.0-py2.py3-none-any.whl (108 kB)\n",
      "\u001b[K     |████████████████████████████████| 108 kB 25.7 MB/s eta 0:00:01\n",
      "\u001b[?25hRequirement already satisfied: absl-py~=0.10 in /usr/local/lib/python3.6/dist-packages (from tensorflow<2.7,>=2.6.0->tensorflow_text) (0.11.0)\n",
      "Requirement already satisfied: flatbuffers~=1.12.0 in /usr/local/lib/python3.6/dist-packages (from tensorflow<2.7,>=2.6.0->tensorflow_text) (1.12)\n",
      "Requirement already satisfied: wheel~=0.35 in /usr/local/lib/python3.6/dist-packages (from tensorflow<2.7,>=2.6.0->tensorflow_text) (0.36.2)\n",
      "Requirement already satisfied: astunparse~=1.6.3 in /usr/local/lib/python3.6/dist-packages (from tensorflow<2.7,>=2.6.0->tensorflow_text) (1.6.3)\n",
      "Collecting h5py~=3.1.0\n",
      "  Downloading h5py-3.1.0-cp36-cp36m-manylinux1_x86_64.whl (4.0 MB)\n",
      "\u001b[K     |████████████████████████████████| 4.0 MB 14.1 MB/s eta 0:00:01     |███████████████████▎            | 2.4 MB 14.1 MB/s eta 0:00:01\n",
      "\u001b[?25hRequirement already satisfied: protobuf>=3.9.2 in /usr/local/lib/python3.6/dist-packages (from tensorflow<2.7,>=2.6.0->tensorflow_text) (3.14.0)\n",
      "Requirement already satisfied: google-pasta~=0.2 in /usr/local/lib/python3.6/dist-packages (from tensorflow<2.7,>=2.6.0->tensorflow_text) (0.2.0)\n",
      "Collecting keras<2.7,>=2.6.0\n",
      "  Downloading keras-2.6.0-py2.py3-none-any.whl (1.3 MB)\n",
      "\u001b[K     |████████████████████████████████| 1.3 MB 35.7 MB/s eta 0:00:01\n",
      "\u001b[?25hRequirement already satisfied: opt-einsum~=3.3.0 in /usr/local/lib/python3.6/dist-packages (from tensorflow<2.7,>=2.6.0->tensorflow_text) (3.3.0)\n",
      "Requirement already satisfied: keras-preprocessing~=1.1.2 in /usr/local/lib/python3.6/dist-packages (from tensorflow<2.7,>=2.6.0->tensorflow_text) (1.1.2)\n",
      "Collecting tensorboard<2.7,>=2.6.0\n",
      "  Downloading tensorboard-2.6.0-py3-none-any.whl (5.6 MB)\n",
      "\u001b[K     |████████████████████████████████| 5.6 MB 31.1 MB/s eta 0:00:01     |█████████▎                      | 1.6 MB 31.1 MB/s eta 0:00:01\n",
      "\u001b[?25hRequirement already satisfied: typing-extensions~=3.7.4 in /usr/local/lib/python3.6/dist-packages (from tensorflow<2.7,>=2.6.0->tensorflow_text) (3.7.4.3)\n",
      "Requirement already satisfied: numpy~=1.19.2 in /usr/local/lib/python3.6/dist-packages (from tensorflow<2.7,>=2.6.0->tensorflow_text) (1.19.4)\n",
      "Collecting tensorflow-estimator<2.7,>=2.6.0\n",
      "  Downloading tensorflow_estimator-2.6.0-py2.py3-none-any.whl (462 kB)\n",
      "\u001b[K     |████████████████████████████████| 462 kB 24.0 MB/s eta 0:00:01\n",
      "\u001b[?25hCollecting grpcio<2.0,>=1.37.0\n",
      "  Downloading grpcio-1.46.1-cp36-cp36m-manylinux_2_17_x86_64.manylinux2014_x86_64.whl (4.4 MB)\n",
      "\u001b[K     |████████████████████████████████| 4.4 MB 17.5 MB/s eta 0:00:01     |████████████████████████▌       | 3.4 MB 17.5 MB/s eta 0:00:01\n",
      "\u001b[?25hRequirement already satisfied: wrapt~=1.12.1 in /usr/local/lib/python3.6/dist-packages (from tensorflow<2.7,>=2.6.0->tensorflow_text) (1.12.1)\n",
      "Collecting clang~=5.0\n",
      "  Downloading clang-5.0.tar.gz (30 kB)\n",
      "Collecting gast==0.4.0\n",
      "  Downloading gast-0.4.0-py3-none-any.whl (9.8 kB)\n",
      "Requirement already satisfied: termcolor~=1.1.0 in /usr/local/lib/python3.6/dist-packages (from tensorflow<2.7,>=2.6.0->tensorflow_text) (1.1.0)\n",
      "Requirement already satisfied: six~=1.15.0 in /usr/local/lib/python3.6/dist-packages (from tensorflow<2.7,>=2.6.0->tensorflow_text) (1.15.0)\n",
      "Collecting cached-property\n",
      "  Downloading cached_property-1.5.2-py2.py3-none-any.whl (7.6 kB)\n",
      "Requirement already satisfied: setuptools>=41.0.0 in /usr/local/lib/python3.6/dist-packages (from tensorboard<2.7,>=2.6.0->tensorflow<2.7,>=2.6.0->tensorflow_text) (51.0.0)\n",
      "Requirement already satisfied: tensorboard-plugin-wit>=1.6.0 in /usr/local/lib/python3.6/dist-packages (from tensorboard<2.7,>=2.6.0->tensorflow<2.7,>=2.6.0->tensorflow_text) (1.7.0)\n",
      "Requirement already satisfied: werkzeug>=0.11.15 in /usr/local/lib/python3.6/dist-packages (from tensorboard<2.7,>=2.6.0->tensorflow<2.7,>=2.6.0->tensorflow_text) (1.0.1)\n",
      "Collecting tensorboard-data-server<0.7.0,>=0.6.0\n",
      "  Downloading tensorboard_data_server-0.6.1-py3-none-manylinux2010_x86_64.whl (4.9 MB)\n",
      "\u001b[K     |████████████████████████████████| 4.9 MB 21.4 MB/s eta 0:00:01     |███▊                            | 573 kB 21.4 MB/s eta 0:00:01     |█████████▍                      | 1.4 MB 21.4 MB/s eta 0:00:01\n",
      "\u001b[?25hRequirement already satisfied: google-auth<2,>=1.6.3 in /usr/local/lib/python3.6/dist-packages (from tensorboard<2.7,>=2.6.0->tensorflow<2.7,>=2.6.0->tensorflow_text) (1.24.0)\n",
      "Requirement already satisfied: google-auth-oauthlib<0.5,>=0.4.1 in /usr/local/lib/python3.6/dist-packages (from tensorboard<2.7,>=2.6.0->tensorflow<2.7,>=2.6.0->tensorflow_text) (0.4.2)\n",
      "Requirement already satisfied: markdown>=2.6.8 in /usr/local/lib/python3.6/dist-packages (from tensorboard<2.7,>=2.6.0->tensorflow<2.7,>=2.6.0->tensorflow_text) (3.3.3)\n",
      "Requirement already satisfied: requests<3,>=2.21.0 in /usr/local/lib/python3.6/dist-packages (from tensorboard<2.7,>=2.6.0->tensorflow<2.7,>=2.6.0->tensorflow_text) (2.25.0)\n",
      "Requirement already satisfied: cachetools<5.0,>=2.0.0 in /usr/local/lib/python3.6/dist-packages (from google-auth<2,>=1.6.3->tensorboard<2.7,>=2.6.0->tensorflow<2.7,>=2.6.0->tensorflow_text) (4.2.0)\n",
      "Requirement already satisfied: rsa<5,>=3.1.4 in /usr/local/lib/python3.6/dist-packages (from google-auth<2,>=1.6.3->tensorboard<2.7,>=2.6.0->tensorflow<2.7,>=2.6.0->tensorflow_text) (4.6)\n",
      "Requirement already satisfied: pyasn1-modules>=0.2.1 in /usr/local/lib/python3.6/dist-packages (from google-auth<2,>=1.6.3->tensorboard<2.7,>=2.6.0->tensorflow<2.7,>=2.6.0->tensorflow_text) (0.2.8)\n"
     ]
    },
    {
     "name": "stdout",
     "output_type": "stream",
     "text": [
      "Requirement already satisfied: requests-oauthlib>=0.7.0 in /usr/local/lib/python3.6/dist-packages (from google-auth-oauthlib<0.5,>=0.4.1->tensorboard<2.7,>=2.6.0->tensorflow<2.7,>=2.6.0->tensorflow_text) (1.3.0)\n",
      "Requirement already satisfied: importlib-metadata in /usr/local/lib/python3.6/dist-packages (from markdown>=2.6.8->tensorboard<2.7,>=2.6.0->tensorflow<2.7,>=2.6.0->tensorflow_text) (3.3.0)\n",
      "Requirement already satisfied: pyasn1<0.5.0,>=0.4.6 in /usr/local/lib/python3.6/dist-packages (from pyasn1-modules>=0.2.1->google-auth<2,>=1.6.3->tensorboard<2.7,>=2.6.0->tensorflow<2.7,>=2.6.0->tensorflow_text) (0.4.8)\n",
      "Requirement already satisfied: urllib3<1.27,>=1.21.1 in /usr/local/lib/python3.6/dist-packages (from requests<3,>=2.21.0->tensorboard<2.7,>=2.6.0->tensorflow<2.7,>=2.6.0->tensorflow_text) (1.26.2)\n",
      "Requirement already satisfied: idna<3,>=2.5 in /usr/lib/python3/dist-packages (from requests<3,>=2.21.0->tensorboard<2.7,>=2.6.0->tensorflow<2.7,>=2.6.0->tensorflow_text) (2.6)\n",
      "Requirement already satisfied: chardet<4,>=3.0.2 in /usr/local/lib/python3.6/dist-packages (from requests<3,>=2.21.0->tensorboard<2.7,>=2.6.0->tensorflow<2.7,>=2.6.0->tensorflow_text) (3.0.4)\n",
      "Requirement already satisfied: certifi>=2017.4.17 in /usr/local/lib/python3.6/dist-packages (from requests<3,>=2.21.0->tensorboard<2.7,>=2.6.0->tensorflow<2.7,>=2.6.0->tensorflow_text) (2020.12.5)\n",
      "Requirement already satisfied: oauthlib>=3.0.0 in /usr/local/lib/python3.6/dist-packages (from requests-oauthlib>=0.7.0->google-auth-oauthlib<0.5,>=0.4.1->tensorboard<2.7,>=2.6.0->tensorflow<2.7,>=2.6.0->tensorflow_text) (3.1.0)\n",
      "Requirement already satisfied: zipp>=0.5 in /usr/local/lib/python3.6/dist-packages (from importlib-metadata->markdown>=2.6.8->tensorboard<2.7,>=2.6.0->tensorflow<2.7,>=2.6.0->tensorflow_text) (3.4.0)\n",
      "Building wheels for collected packages: clang\n",
      "  Building wheel for clang (setup.py) ... \u001b[?25ldone\n",
      "\u001b[?25h  Created wheel for clang: filename=clang-5.0-py3-none-any.whl size=30702 sha256=1e0d4d05191d47dbbe5c12c4cfb15a921558265cba0a8aa54384a455f15bf4bc\n",
      "  Stored in directory: /root/.cache/pip/wheels/22/4c/94/0583f60c9c5b6024ed64f290cb2d43b06bb4f75577dc3c93a7\n",
      "Successfully built clang\n",
      "Installing collected packages: tensorboard-data-server, grpcio, cached-property, tensorflow-estimator, tensorboard, keras, h5py, gast, clang, tensorflow-hub, tensorflow, tensorflow-text\n",
      "  Attempting uninstall: grpcio\n",
      "    Found existing installation: grpcio 1.32.0\n",
      "    Uninstalling grpcio-1.32.0:\n",
      "      Successfully uninstalled grpcio-1.32.0\n",
      "  Attempting uninstall: tensorflow-estimator\n",
      "    Found existing installation: tensorflow-estimator 2.4.0rc0\n",
      "    Uninstalling tensorflow-estimator-2.4.0rc0:\n",
      "      Successfully uninstalled tensorflow-estimator-2.4.0rc0\n",
      "  Attempting uninstall: tensorboard\n",
      "    Found existing installation: tensorboard 2.4.0\n",
      "    Uninstalling tensorboard-2.4.0:\n",
      "      Successfully uninstalled tensorboard-2.4.0\n",
      "  Attempting uninstall: keras\n",
      "    Found existing installation: Keras 2.4.3\n",
      "    Uninstalling Keras-2.4.3:\n",
      "      Successfully uninstalled Keras-2.4.3\n",
      "  Attempting uninstall: h5py\n",
      "    Found existing installation: h5py 2.10.0\n",
      "    Uninstalling h5py-2.10.0:\n",
      "      Successfully uninstalled h5py-2.10.0\n",
      "  Attempting uninstall: gast\n",
      "    Found existing installation: gast 0.3.3\n",
      "    Uninstalling gast-0.3.3:\n",
      "      Successfully uninstalled gast-0.3.3\n",
      "\u001b[31mERROR: pip's dependency resolver does not currently take into account all the packages that are installed. This behaviour is the source of the following dependency conflicts.\n",
      "tensorflow-gpu 2.4.0 requires gast==0.3.3, but you have gast 0.4.0 which is incompatible.\n",
      "tensorflow-gpu 2.4.0 requires grpcio~=1.32.0, but you have grpcio 1.46.1 which is incompatible.\n",
      "tensorflow-gpu 2.4.0 requires h5py~=2.10.0, but you have h5py 3.1.0 which is incompatible.\n",
      "tensorflow-gpu 2.4.0 requires tensorflow-estimator<2.5.0,>=2.4.0rc0, but you have tensorflow-estimator 2.6.0 which is incompatible.\u001b[0m\n",
      "Successfully installed cached-property-1.5.2 clang-5.0 gast-0.4.0 grpcio-1.46.1 h5py-3.1.0 keras-2.6.0 tensorboard-2.6.0 tensorboard-data-server-0.6.1 tensorflow-2.6.2 tensorflow-estimator-2.6.0 tensorflow-hub-0.12.0 tensorflow-text-2.6.0\n",
      "\u001b[33mWARNING: You are using pip version 21.0.1; however, version 21.3.1 is available.\n",
      "You should consider upgrading via the '/usr/bin/python3 -m pip install --upgrade pip' command.\u001b[0m\n"
     ]
    }
   ],
   "source": [
    "!pip install tensorflow_text"
   ]
  },
  {
   "cell_type": "code",
   "execution_count": 23,
   "metadata": {},
   "outputs": [],
   "source": [
    "import laserembeddings\n",
    "from laserembeddings import Laser\n",
    "from numpy import dot\n",
    "from numpy.linalg import norm\n",
    "import torch\n",
    "from transformers import BertModel, BertTokenizerFast\n",
    "import numpy as np\n",
    "import pandas as pd\n",
    "from sklearn.model_selection import train_test_split\n",
    "import tensorflow as tf\n",
    "from tensorflow import keras\n",
    "from tensorflow.keras import models\n",
    "from tensorflow.keras import layers\n",
    "from tensorflow.keras import Sequential\n",
    "from tensorflow.keras.layers import Dense, Dropout\n",
    "from tensorflow.keras.optimizers import RMSprop\n",
    "from sklearn.preprocessing import MultiLabelBinarizer\n",
    "from sklearn.preprocessing import OneHotEncoder\n",
    "from sklearn.metrics import roc_auc_score\n",
    "from sklearn.metrics import accuracy_score\n",
    "from tqdm import tqdm\n",
    "tqdm.pandas()"
   ]
  },
  {
   "cell_type": "code",
   "execution_count": 5,
   "metadata": {},
   "outputs": [
    {
     "name": "stdout",
     "output_type": "stream",
     "text": [
      "Downloading models into /usr/local/lib/python3.6/dist-packages/laserembeddings/data\n",
      "\n",
      "✅   Downloaded https://dl.fbaipublicfiles.com/laser/models/93langs.fcodes    \n",
      "✅   Downloaded https://dl.fbaipublicfiles.com/laser/models/93langs.fvocab    \n",
      "✅   Downloaded https://dl.fbaipublicfiles.com/laser/models/bilstm.93langs.2018-12-26.pt    \n",
      "\n",
      "✨ You're all set!\n"
     ]
    }
   ],
   "source": [
    "!python -m laserembeddings download-models"
   ]
  },
  {
   "cell_type": "code",
   "execution_count": 10,
   "metadata": {},
   "outputs": [
    {
     "data": {
      "text/html": [
       "<div>\n",
       "<style scoped>\n",
       "    .dataframe tbody tr th:only-of-type {\n",
       "        vertical-align: middle;\n",
       "    }\n",
       "\n",
       "    .dataframe tbody tr th {\n",
       "        vertical-align: top;\n",
       "    }\n",
       "\n",
       "    .dataframe thead th {\n",
       "        text-align: right;\n",
       "    }\n",
       "</style>\n",
       "<table border=\"1\" class=\"dataframe\">\n",
       "  <thead>\n",
       "    <tr style=\"text-align: right;\">\n",
       "      <th></th>\n",
       "      <th>Unnamed: 0</th>\n",
       "      <th>description</th>\n",
       "      <th>medical_specialty</th>\n",
       "      <th>sample_name</th>\n",
       "      <th>transcription</th>\n",
       "      <th>keywords</th>\n",
       "    </tr>\n",
       "  </thead>\n",
       "  <tbody>\n",
       "    <tr>\n",
       "      <th>0</th>\n",
       "      <td>0</td>\n",
       "      <td>A 23-year-old white female presents with comp...</td>\n",
       "      <td>Allergy / Immunology</td>\n",
       "      <td>Allergic Rhinitis</td>\n",
       "      <td>SUBJECTIVE:,  This 23-year-old white female pr...</td>\n",
       "      <td>allergy / immunology, allergic rhinitis, aller...</td>\n",
       "    </tr>\n",
       "    <tr>\n",
       "      <th>1</th>\n",
       "      <td>1</td>\n",
       "      <td>Consult for laparoscopic gastric bypass.</td>\n",
       "      <td>Bariatrics</td>\n",
       "      <td>Laparoscopic Gastric Bypass Consult - 2</td>\n",
       "      <td>PAST MEDICAL HISTORY:, He has difficulty climb...</td>\n",
       "      <td>bariatrics, laparoscopic gastric bypass, weigh...</td>\n",
       "    </tr>\n",
       "    <tr>\n",
       "      <th>2</th>\n",
       "      <td>2</td>\n",
       "      <td>Consult for laparoscopic gastric bypass.</td>\n",
       "      <td>Bariatrics</td>\n",
       "      <td>Laparoscopic Gastric Bypass Consult - 1</td>\n",
       "      <td>HISTORY OF PRESENT ILLNESS: , I have seen ABC ...</td>\n",
       "      <td>bariatrics, laparoscopic gastric bypass, heart...</td>\n",
       "    </tr>\n",
       "    <tr>\n",
       "      <th>3</th>\n",
       "      <td>3</td>\n",
       "      <td>2-D M-Mode. Doppler.</td>\n",
       "      <td>Cardiovascular / Pulmonary</td>\n",
       "      <td>2-D Echocardiogram - 1</td>\n",
       "      <td>2-D M-MODE: , ,1.  Left atrial enlargement wit...</td>\n",
       "      <td>cardiovascular / pulmonary, 2-d m-mode, dopple...</td>\n",
       "    </tr>\n",
       "    <tr>\n",
       "      <th>4</th>\n",
       "      <td>4</td>\n",
       "      <td>2-D Echocardiogram</td>\n",
       "      <td>Cardiovascular / Pulmonary</td>\n",
       "      <td>2-D Echocardiogram - 2</td>\n",
       "      <td>1.  The left ventricular cavity size and wall ...</td>\n",
       "      <td>cardiovascular / pulmonary, 2-d, doppler, echo...</td>\n",
       "    </tr>\n",
       "  </tbody>\n",
       "</table>\n",
       "</div>"
      ],
      "text/plain": [
       "   Unnamed: 0                                        description  \\\n",
       "0           0   A 23-year-old white female presents with comp...   \n",
       "1           1           Consult for laparoscopic gastric bypass.   \n",
       "2           2           Consult for laparoscopic gastric bypass.   \n",
       "3           3                             2-D M-Mode. Doppler.     \n",
       "4           4                                 2-D Echocardiogram   \n",
       "\n",
       "             medical_specialty                                sample_name  \\\n",
       "0         Allergy / Immunology                         Allergic Rhinitis    \n",
       "1                   Bariatrics   Laparoscopic Gastric Bypass Consult - 2    \n",
       "2                   Bariatrics   Laparoscopic Gastric Bypass Consult - 1    \n",
       "3   Cardiovascular / Pulmonary                    2-D Echocardiogram - 1    \n",
       "4   Cardiovascular / Pulmonary                    2-D Echocardiogram - 2    \n",
       "\n",
       "                                       transcription  \\\n",
       "0  SUBJECTIVE:,  This 23-year-old white female pr...   \n",
       "1  PAST MEDICAL HISTORY:, He has difficulty climb...   \n",
       "2  HISTORY OF PRESENT ILLNESS: , I have seen ABC ...   \n",
       "3  2-D M-MODE: , ,1.  Left atrial enlargement wit...   \n",
       "4  1.  The left ventricular cavity size and wall ...   \n",
       "\n",
       "                                            keywords  \n",
       "0  allergy / immunology, allergic rhinitis, aller...  \n",
       "1  bariatrics, laparoscopic gastric bypass, weigh...  \n",
       "2  bariatrics, laparoscopic gastric bypass, heart...  \n",
       "3  cardiovascular / pulmonary, 2-d m-mode, dopple...  \n",
       "4  cardiovascular / pulmonary, 2-d, doppler, echo...  "
      ]
     },
     "execution_count": 10,
     "metadata": {},
     "output_type": "execute_result"
    }
   ],
   "source": [
    "data = pd.read_csv(\"mtsamples.csv\")\n",
    "data.head()"
   ]
  },
  {
   "cell_type": "code",
   "execution_count": 34,
   "metadata": {},
   "outputs": [],
   "source": [
    "spec = [' Surgery', ' Consult - History and Phy.', ' Cardiovascular / Pulmonary', ' Orthopedic', ' Radiology', ' General Medicine',\n",
    "       ' General Medicine', ' Gastroenterology',  ' Neurology', ' SOAP / Chart / Progress Notes', ' Obstetrics / Gynecology', ' Urology',\n",
    "       ' Discharge Summary']"
   ]
  },
  {
   "cell_type": "code",
   "execution_count": 35,
   "metadata": {},
   "outputs": [],
   "source": [
    "def specialities(row):\n",
    "    if row['medical_specialty'] in spec:\n",
    "        return row.medical_specialty\n",
    "    else:\n",
    "        return 'other'"
   ]
  },
  {
   "cell_type": "code",
   "execution_count": 36,
   "metadata": {},
   "outputs": [],
   "source": [
    "data['categories'] = data.apply(specialities, axis = 1)"
   ]
  },
  {
   "cell_type": "code",
   "execution_count": 37,
   "metadata": {},
   "outputs": [],
   "source": [
    "text = []\n",
    "for row in range(0,data.shape[0]):\n",
    "    text.append(data.description[row])"
   ]
  },
  {
   "cell_type": "code",
   "execution_count": 38,
   "metadata": {},
   "outputs": [],
   "source": [
    "laser = Laser()\n",
    "embeddings = laser.embed_sentences(\n",
    "    text,\n",
    "    lang='en')"
   ]
  },
  {
   "cell_type": "code",
   "execution_count": 39,
   "metadata": {},
   "outputs": [],
   "source": [
    "em = pd.DataFrame(embeddings)\n",
    "em.to_csv(\"embeddings.csv\", index = False)"
   ]
  },
  {
   "cell_type": "code",
   "execution_count": 15,
   "metadata": {},
   "outputs": [
    {
     "data": {
      "text/plain": [
       "(4999, 1024)"
      ]
     },
     "execution_count": 15,
     "metadata": {},
     "output_type": "execute_result"
    }
   ],
   "source": [
    "embeddings.shape"
   ]
  },
  {
   "cell_type": "code",
   "execution_count": 40,
   "metadata": {},
   "outputs": [],
   "source": [
    "X = embeddings\n",
    "y = data.categories"
   ]
  },
  {
   "cell_type": "code",
   "execution_count": 41,
   "metadata": {},
   "outputs": [],
   "source": [
    "onehot = OneHotEncoder(sparse = False)\n",
    "onehot.fit(np.asarray(y).reshape(-1,1))\n",
    "labels = onehot.transform(np.asarray(y).reshape(-1,1))"
   ]
  },
  {
   "cell_type": "code",
   "execution_count": 42,
   "metadata": {},
   "outputs": [],
   "source": [
    "X_train, X_test, y_train, y_test = train_test_split(X, labels, test_size=0.1, random_state=42)\n",
    "X_train, X_valid, y_train, y_valid = train_test_split(X_train, y_train, test_size=0.1, random_state=42)"
   ]
  },
  {
   "cell_type": "code",
   "execution_count": 82,
   "metadata": {},
   "outputs": [
    {
     "data": {
      "text/plain": [
       "(500, 13)"
      ]
     },
     "execution_count": 82,
     "metadata": {},
     "output_type": "execute_result"
    }
   ],
   "source": [
    "y_test.shape"
   ]
  },
  {
   "cell_type": "code",
   "execution_count": 43,
   "metadata": {},
   "outputs": [],
   "source": [
    "batch_size = 64\n",
    "\n",
    "def build_model(shape):\n",
    "    model = models.Sequential()\n",
    "    model.add(layers.Dense(128, activation = 'relu', input_shape = (shape,)))\n",
    "    model.add(layers.Dense(64, activation = 'relu'))\n",
    "    model.add(layers.Dense(13, activation = 'softmax'))\n",
    "    \n",
    "    model.compile(optimizer='rmsprop', \n",
    "                  loss='categorical_crossentropy', \n",
    "                  metrics=['accuracy', 'AUC'])\n",
    "    print(model.summary())\n",
    "    return model"
   ]
  },
  {
   "cell_type": "code",
   "execution_count": 44,
   "metadata": {},
   "outputs": [
    {
     "name": "stdout",
     "output_type": "stream",
     "text": [
      "Model: \"sequential\"\n",
      "_________________________________________________________________\n",
      "Layer (type)                 Output Shape              Param #   \n",
      "=================================================================\n",
      "dense (Dense)                (None, 128)               131200    \n",
      "_________________________________________________________________\n",
      "dense_1 (Dense)              (None, 64)                8256      \n",
      "_________________________________________________________________\n",
      "dense_2 (Dense)              (None, 13)                845       \n",
      "=================================================================\n",
      "Total params: 140,301\n",
      "Trainable params: 140,301\n",
      "Non-trainable params: 0\n",
      "_________________________________________________________________\n",
      "None\n"
     ]
    }
   ],
   "source": [
    "model = build_model(shape = X_train.shape[1])"
   ]
  },
  {
   "cell_type": "code",
   "execution_count": 45,
   "metadata": {},
   "outputs": [
    {
     "name": "stdout",
     "output_type": "stream",
     "text": [
      "Epoch 1/30\n",
      "64/64 [==============================] - 1s 9ms/step - loss: 2.3143 - accuracy: 0.2529 - auc: 0.7087 - val_loss: 2.1972 - val_accuracy: 0.3067 - val_auc: 0.7493\n",
      "Epoch 2/30\n",
      "64/64 [==============================] - 0s 4ms/step - loss: 2.1882 - accuracy: 0.2897 - auc: 0.7530 - val_loss: 2.1385 - val_accuracy: 0.2778 - val_auc: 0.7712\n",
      "Epoch 3/30\n",
      "64/64 [==============================] - 0s 5ms/step - loss: 2.1120 - accuracy: 0.3033 - auc: 0.7812 - val_loss: 2.0871 - val_accuracy: 0.2778 - val_auc: 0.7861\n",
      "Epoch 4/30\n",
      "64/64 [==============================] - 0s 4ms/step - loss: 2.0550 - accuracy: 0.3055 - auc: 0.7980 - val_loss: 2.0409 - val_accuracy: 0.2911 - val_auc: 0.8005\n",
      "Epoch 5/30\n",
      "64/64 [==============================] - 0s 5ms/step - loss: 2.0016 - accuracy: 0.3228 - auc: 0.8130 - val_loss: 2.0072 - val_accuracy: 0.3089 - val_auc: 0.8088\n",
      "Epoch 6/30\n",
      "64/64 [==============================] - 0s 5ms/step - loss: 1.9505 - accuracy: 0.3317 - auc: 0.8264 - val_loss: 1.9914 - val_accuracy: 0.3156 - val_auc: 0.8143\n",
      "Epoch 7/30\n",
      "64/64 [==============================] - 0s 5ms/step - loss: 1.8982 - accuracy: 0.3408 - auc: 0.8382 - val_loss: 1.9616 - val_accuracy: 0.3067 - val_auc: 0.8204\n",
      "Epoch 8/30\n",
      "64/64 [==============================] - 0s 5ms/step - loss: 1.8507 - accuracy: 0.3497 - auc: 0.8485 - val_loss: 1.9286 - val_accuracy: 0.3289 - val_auc: 0.8292\n",
      "Epoch 9/30\n",
      "64/64 [==============================] - 0s 5ms/step - loss: 1.8027 - accuracy: 0.3638 - auc: 0.8588 - val_loss: 1.9172 - val_accuracy: 0.3267 - val_auc: 0.8351\n",
      "Epoch 10/30\n",
      "64/64 [==============================] - 0s 5ms/step - loss: 1.7563 - accuracy: 0.3692 - auc: 0.8687 - val_loss: 1.9144 - val_accuracy: 0.3156 - val_auc: 0.8369\n",
      "Epoch 11/30\n",
      "64/64 [==============================] - 0s 4ms/step - loss: 1.7179 - accuracy: 0.3905 - auc: 0.8748 - val_loss: 1.9145 - val_accuracy: 0.2933 - val_auc: 0.8346\n",
      "Epoch 12/30\n",
      "64/64 [==============================] - 0s 5ms/step - loss: 1.6814 - accuracy: 0.3796 - auc: 0.8811 - val_loss: 1.9183 - val_accuracy: 0.2956 - val_auc: 0.8391\n",
      "Epoch 13/30\n",
      "64/64 [==============================] - 0s 5ms/step - loss: 1.6495 - accuracy: 0.3927 - auc: 0.8864 - val_loss: 1.9092 - val_accuracy: 0.2978 - val_auc: 0.8370\n",
      "Epoch 14/30\n",
      "64/64 [==============================] - 0s 5ms/step - loss: 1.6190 - accuracy: 0.3964 - auc: 0.8911 - val_loss: 1.9515 - val_accuracy: 0.2956 - val_auc: 0.8328\n",
      "Epoch 15/30\n",
      "64/64 [==============================] - 0s 5ms/step - loss: 1.6021 - accuracy: 0.4016 - auc: 0.8933 - val_loss: 1.8998 - val_accuracy: 0.2800 - val_auc: 0.8410\n",
      "Epoch 16/30\n",
      "64/64 [==============================] - 0s 4ms/step - loss: 1.5726 - accuracy: 0.4068 - auc: 0.8980 - val_loss: 1.8938 - val_accuracy: 0.2844 - val_auc: 0.8422\n",
      "Epoch 17/30\n",
      "64/64 [==============================] - 0s 5ms/step - loss: 1.5485 - accuracy: 0.4065 - auc: 0.9011 - val_loss: 1.8628 - val_accuracy: 0.2733 - val_auc: 0.8493\n",
      "Epoch 18/30\n",
      "64/64 [==============================] - 0s 5ms/step - loss: 1.5302 - accuracy: 0.4100 - auc: 0.9040 - val_loss: 1.9107 - val_accuracy: 0.3200 - val_auc: 0.8439\n",
      "Epoch 19/30\n",
      "64/64 [==============================] - 0s 5ms/step - loss: 1.5092 - accuracy: 0.4166 - auc: 0.9065 - val_loss: 1.8937 - val_accuracy: 0.2844 - val_auc: 0.8470\n",
      "Epoch 20/30\n",
      "64/64 [==============================] - 0s 5ms/step - loss: 1.4879 - accuracy: 0.4248 - auc: 0.9094 - val_loss: 1.9962 - val_accuracy: 0.2689 - val_auc: 0.8336\n",
      "Epoch 21/30\n",
      "64/64 [==============================] - 0s 4ms/step - loss: 1.4779 - accuracy: 0.4204 - auc: 0.9109 - val_loss: 1.9563 - val_accuracy: 0.2956 - val_auc: 0.8442\n",
      "Epoch 22/30\n",
      "64/64 [==============================] - 0s 5ms/step - loss: 1.4498 - accuracy: 0.4342 - auc: 0.9142 - val_loss: 1.8916 - val_accuracy: 0.2867 - val_auc: 0.8509\n",
      "Epoch 23/30\n",
      "64/64 [==============================] - 0s 4ms/step - loss: 1.4305 - accuracy: 0.4253 - auc: 0.9168 - val_loss: 1.9059 - val_accuracy: 0.2667 - val_auc: 0.8456\n",
      "Epoch 24/30\n",
      "64/64 [==============================] - 0s 5ms/step - loss: 1.4154 - accuracy: 0.4337 - auc: 0.9187 - val_loss: 1.9136 - val_accuracy: 0.2356 - val_auc: 0.8437\n",
      "Epoch 25/30\n",
      "64/64 [==============================] - 0s 5ms/step - loss: 1.3975 - accuracy: 0.4317 - auc: 0.9206 - val_loss: 1.9404 - val_accuracy: 0.2756 - val_auc: 0.8429\n",
      "Epoch 26/30\n",
      "64/64 [==============================] - 0s 5ms/step - loss: 1.3877 - accuracy: 0.4418 - auc: 0.9215 - val_loss: 1.9065 - val_accuracy: 0.2489 - val_auc: 0.8485\n",
      "Epoch 27/30\n",
      "64/64 [==============================] - 0s 5ms/step - loss: 1.3670 - accuracy: 0.4458 - auc: 0.9240 - val_loss: 1.9397 - val_accuracy: 0.2311 - val_auc: 0.8449\n",
      "Epoch 28/30\n",
      "64/64 [==============================] - 0s 4ms/step - loss: 1.3500 - accuracy: 0.4483 - auc: 0.9261 - val_loss: 2.0142 - val_accuracy: 0.2511 - val_auc: 0.8377\n",
      "Epoch 29/30\n",
      "64/64 [==============================] - 0s 5ms/step - loss: 1.3434 - accuracy: 0.4490 - auc: 0.9265 - val_loss: 2.0273 - val_accuracy: 0.2178 - val_auc: 0.8336\n",
      "Epoch 30/30\n",
      "64/64 [==============================] - 0s 5ms/step - loss: 1.3248 - accuracy: 0.4537 - auc: 0.9286 - val_loss: 1.9821 - val_accuracy: 0.2756 - val_auc: 0.8464\n"
     ]
    },
    {
     "data": {
      "text/plain": [
       "<keras.callbacks.History at 0x7f3cb9379b38>"
      ]
     },
     "execution_count": 45,
     "metadata": {},
     "output_type": "execute_result"
    }
   ],
   "source": [
    "model.fit(X_train, \n",
    "          y_train,\n",
    "          epochs = 30,\n",
    "          batch_size = batch_size,\n",
    "          validation_data = (X_valid, y_valid))"
   ]
  },
  {
   "cell_type": "code",
   "execution_count": 46,
   "metadata": {},
   "outputs": [],
   "source": [
    "y_prob = model.predict(X_test)\n",
    "y_pred = np.argmax(y_prob, axis = 1)"
   ]
  },
  {
   "cell_type": "code",
   "execution_count": 47,
   "metadata": {},
   "outputs": [
    {
     "data": {
      "text/plain": [
       "0.8183463730995245"
      ]
     },
     "execution_count": 47,
     "metadata": {},
     "output_type": "execute_result"
    }
   ],
   "source": [
    "roc_auc_score(np.argmax(y_test, axis = 1), y_prob, multi_class = 'ovr')"
   ]
  },
  {
   "cell_type": "code",
   "execution_count": 25,
   "metadata": {},
   "outputs": [],
   "source": [
    "test1 = 'Reparatur des Leistenbruchs links, Orchiopexie links mit 0,25 % Marcain, Blockierung des Nervus ilioinguinalis und Wundblockade mit 0,5 % Marcain plain.'"
   ]
  },
  {
   "cell_type": "code",
   "execution_count": 8,
   "metadata": {},
   "outputs": [
    {
     "ename": "NameError",
     "evalue": "name 'laser' is not defined",
     "output_type": "error",
     "traceback": [
      "\u001b[0;31m---------------------------------------------------------------------------\u001b[0m",
      "\u001b[0;31mNameError\u001b[0m                                 Traceback (most recent call last)",
      "\u001b[0;32m<ipython-input-8-4fdf46cea2b3>\u001b[0m in \u001b[0;36m<module>\u001b[0;34m\u001b[0m\n\u001b[0;32m----> 1\u001b[0;31m embedding1 = laser.embed_sentences(\n\u001b[0m\u001b[1;32m      2\u001b[0m     \u001b[0mtest1\u001b[0m\u001b[0;34m,\u001b[0m\u001b[0;34m\u001b[0m\u001b[0;34m\u001b[0m\u001b[0m\n\u001b[1;32m      3\u001b[0m     lang='de')\n",
      "\u001b[0;31mNameError\u001b[0m: name 'laser' is not defined"
     ]
    }
   ],
   "source": [
    "embedding1 = laser.embed_sentences(\n",
    "    test1,\n",
    "    lang='de')"
   ]
  },
  {
   "cell_type": "code",
   "execution_count": 27,
   "metadata": {},
   "outputs": [],
   "source": [
    "pred1 = model.predict(embedding1)"
   ]
  },
  {
   "cell_type": "code",
   "execution_count": 28,
   "metadata": {},
   "outputs": [
    {
     "data": {
      "text/plain": [
       "10"
      ]
     },
     "execution_count": 28,
     "metadata": {},
     "output_type": "execute_result"
    }
   ],
   "source": [
    "np.argmax(pred1)"
   ]
  },
  {
   "cell_type": "code",
   "execution_count": 29,
   "metadata": {},
   "outputs": [
    {
     "data": {
      "text/plain": [
       "1.0"
      ]
     },
     "execution_count": 29,
     "metadata": {},
     "output_type": "execute_result"
    }
   ],
   "source": [
    "labels[500][10]"
   ]
  },
  {
   "cell_type": "markdown",
   "metadata": {},
   "source": [
    "### Deutsche Tests"
   ]
  },
  {
   "cell_type": "code",
   "execution_count": 46,
   "metadata": {},
   "outputs": [
    {
     "name": "stdout",
     "output_type": "stream",
     "text": [
      "Found existing installation: googletrans 3.0.0\r\n",
      "Uninstalling googletrans-3.0.0:\r\n",
      "  Successfully uninstalled googletrans-3.0.0\r\n"
     ]
    }
   ],
   "source": [
    "!pip uninstall googletrans -y"
   ]
  },
  {
   "cell_type": "code",
   "execution_count": 50,
   "metadata": {},
   "outputs": [
    {
     "name": "stdout",
     "output_type": "stream",
     "text": [
      "Collecting googletrans==3.1.0a0\n",
      "  Downloading googletrans-3.1.0a0.tar.gz (19 kB)\n",
      "Requirement already satisfied: httpx==0.13.3 in /usr/local/lib/python3.6/dist-packages (from googletrans==3.1.0a0) (0.13.3)\n",
      "Requirement already satisfied: chardet==3.* in /usr/local/lib/python3.6/dist-packages (from httpx==0.13.3->googletrans==3.1.0a0) (3.0.4)\n",
      "Requirement already satisfied: httpcore==0.9.* in /usr/local/lib/python3.6/dist-packages (from httpx==0.13.3->googletrans==3.1.0a0) (0.9.1)\n",
      "Requirement already satisfied: hstspreload in /usr/local/lib/python3.6/dist-packages (from httpx==0.13.3->googletrans==3.1.0a0) (2021.12.1)\n",
      "Requirement already satisfied: sniffio in /usr/local/lib/python3.6/dist-packages (from httpx==0.13.3->googletrans==3.1.0a0) (1.2.0)\n",
      "Requirement already satisfied: certifi in /usr/local/lib/python3.6/dist-packages (from httpx==0.13.3->googletrans==3.1.0a0) (2020.12.5)\n",
      "Requirement already satisfied: rfc3986<2,>=1.3 in /usr/local/lib/python3.6/dist-packages (from httpx==0.13.3->googletrans==3.1.0a0) (1.5.0)\n",
      "Requirement already satisfied: idna==2.* in /usr/lib/python3/dist-packages (from httpx==0.13.3->googletrans==3.1.0a0) (2.6)\n",
      "Requirement already satisfied: h11<0.10,>=0.8 in /usr/local/lib/python3.6/dist-packages (from httpcore==0.9.*->httpx==0.13.3->googletrans==3.1.0a0) (0.9.0)\n",
      "Requirement already satisfied: h2==3.* in /usr/local/lib/python3.6/dist-packages (from httpcore==0.9.*->httpx==0.13.3->googletrans==3.1.0a0) (3.2.0)\n",
      "Requirement already satisfied: hyperframe<6,>=5.2.0 in /usr/local/lib/python3.6/dist-packages (from h2==3.*->httpcore==0.9.*->httpx==0.13.3->googletrans==3.1.0a0) (5.2.0)\n",
      "Requirement already satisfied: hpack<4,>=3.0 in /usr/local/lib/python3.6/dist-packages (from h2==3.*->httpcore==0.9.*->httpx==0.13.3->googletrans==3.1.0a0) (3.0.0)\n",
      "Requirement already satisfied: contextvars>=2.1 in /usr/local/lib/python3.6/dist-packages (from sniffio->httpx==0.13.3->googletrans==3.1.0a0) (2.4)\n",
      "Requirement already satisfied: immutables>=0.9 in /usr/local/lib/python3.6/dist-packages (from contextvars>=2.1->sniffio->httpx==0.13.3->googletrans==3.1.0a0) (0.17)\n",
      "Requirement already satisfied: typing-extensions>=3.7.4.3 in /usr/local/lib/python3.6/dist-packages (from immutables>=0.9->contextvars>=2.1->sniffio->httpx==0.13.3->googletrans==3.1.0a0) (3.7.4.3)\n",
      "Building wheels for collected packages: googletrans\n",
      "  Building wheel for googletrans (setup.py) ... \u001b[?25ldone\n",
      "\u001b[?25h  Created wheel for googletrans: filename=googletrans-3.1.0a0-py3-none-any.whl size=16368 sha256=82051276f722a717086bbc69e064d32df865018f0d7ac97fd0a6e79a1ffe3674\n",
      "  Stored in directory: /root/.cache/pip/wheels/26/36/33/1ead496ea4484c4df14c9d148c9e2676a1a2d821bc88d4f453\n",
      "Successfully built googletrans\n",
      "Installing collected packages: googletrans\n",
      "Successfully installed googletrans-3.1.0a0\n",
      "\u001b[33mWARNING: You are using pip version 21.0.1; however, version 21.3.1 is available.\n",
      "You should consider upgrading via the '/usr/bin/python3 -m pip install --upgrade pip' command.\u001b[0m\n"
     ]
    }
   ],
   "source": [
    "!pip install googletrans==3.1.0a0"
   ]
  },
  {
   "cell_type": "code",
   "execution_count": 1,
   "metadata": {},
   "outputs": [
    {
     "name": "stdout",
     "output_type": "stream",
     "text": [
      "3.1.0-alpha\n"
     ]
    }
   ],
   "source": [
    "import googletrans\n",
    "print(googletrans.__version__)"
   ]
  },
  {
   "cell_type": "code",
   "execution_count": 2,
   "metadata": {},
   "outputs": [],
   "source": [
    "from googletrans import Translator"
   ]
  },
  {
   "cell_type": "code",
   "execution_count": 6,
   "metadata": {},
   "outputs": [],
   "source": [
    "translator = Translator()\n",
    "translation = translator.translate('Hello world', src= 'en', dest = 'de')"
   ]
  },
  {
   "cell_type": "code",
   "execution_count": 7,
   "metadata": {},
   "outputs": [
    {
     "name": "stdout",
     "output_type": "stream",
     "text": [
      "Hello world (en) --> Hallo Welt (de)\n"
     ]
    }
   ],
   "source": [
    "print(f\"{translation.origin} ({translation.src}) --> {translation.text} ({translation.dest})\")"
   ]
  },
  {
   "cell_type": "code",
   "execution_count": 26,
   "metadata": {},
   "outputs": [],
   "source": [
    "def translate(row):\n",
    "    text = row.description\n",
    "    translation = translator.translate(text, src= 'en', dest = 'de')\n",
    "    return translation.text"
   ]
  },
  {
   "cell_type": "code",
   "execution_count": 58,
   "metadata": {},
   "outputs": [],
   "source": [
    "data_translate = data.sample(n=200, random_state=1)"
   ]
  },
  {
   "cell_type": "code",
   "execution_count": 61,
   "metadata": {},
   "outputs": [
    {
     "data": {
      "text/plain": [
       " Surgery                          44\n",
       " Radiology                        21\n",
       " Consult - History and Phy.       14\n",
       " Cardiovascular / Pulmonary       14\n",
       " Gastroenterology                 11\n",
       " Neurology                        11\n",
       " Orthopedic                       10\n",
       " General Medicine                  9\n",
       " Obstetrics / Gynecology           8\n",
       " Neurosurgery                      6\n",
       " Hematology - Oncology             6\n",
       " Pain Management                   5\n",
       " Nephrology                        4\n",
       " Pediatrics - Neonatal             4\n",
       " SOAP / Chart / Progress Notes     4\n",
       " ENT - Otolaryngology              3\n",
       " Emergency Room Reports            3\n",
       " Ophthalmology                     3\n",
       " Podiatry                          3\n",
       " Endocrinology                     3\n",
       " Lab Medicine - Pathology          2\n",
       " Discharge Summary                 2\n",
       " Cosmetic / Plastic Surgery        2\n",
       " Dentistry                         2\n",
       " Urology                           2\n",
       " Psychiatry / Psychology           1\n",
       " Diets and Nutritions              1\n",
       " Dermatology                       1\n",
       " Allergy / Immunology              1\n",
       "Name: medical_specialty, dtype: int64"
      ]
     },
     "execution_count": 61,
     "metadata": {},
     "output_type": "execute_result"
    }
   ],
   "source": [
    "data_translate['medical_specialty'].value_counts()"
   ]
  },
  {
   "cell_type": "code",
   "execution_count": 62,
   "metadata": {},
   "outputs": [],
   "source": [
    "data_translate['categories'] = data_translate.apply(specialities, axis = 1)"
   ]
  },
  {
   "cell_type": "code",
   "execution_count": 75,
   "metadata": {},
   "outputs": [
    {
     "data": {
      "text/plain": [
       "4995                          other\n",
       "4418     Consult - History and Phy.\n",
       "2999                          other\n",
       "4714     Cardiovascular / Pulmonary\n",
       "2263                     Orthopedic\n",
       "                   ...             \n",
       "3219               General Medicine\n",
       "1156                        Surgery\n",
       "1098                        Surgery\n",
       "2016                          other\n",
       "4316     Consult - History and Phy.\n",
       "Name: categories, Length: 200, dtype: object"
      ]
     },
     "execution_count": 75,
     "metadata": {},
     "output_type": "execute_result"
    }
   ],
   "source": [
    "data_translate['categories']"
   ]
  },
  {
   "cell_type": "code",
   "execution_count": 65,
   "metadata": {},
   "outputs": [
    {
     "name": "stderr",
     "output_type": "stream",
     "text": [
      "100%|██████████| 200/200 [00:38<00:00,  5.20it/s]\n"
     ]
    }
   ],
   "source": [
    "data_translate['translation'] = data_translate.progress_apply(translate, axis = 1)"
   ]
  },
  {
   "cell_type": "code",
   "execution_count": 66,
   "metadata": {},
   "outputs": [
    {
     "data": {
      "text/plain": [
       "4995    Dies ist ein 14 Monate alter kaukasischer Jung...\n",
       "4418    Abszess des linken Fußes, Ätiologie derzeit un...\n",
       "2999    Laparoskopische rechtsradikale Nephrektomie we...\n",
       "4714    Implantation eines Zweikammer-Schrittmachers u...\n",
       "2263    Der Patient litt unter hartnäckigen Rücken- un...\n",
       "                              ...                        \n",
       "3219    Ein 40-jähriger Mann wurde heute wegen einer 9...\n",
       "1156    Bilaterale Myringotomiekanülen und Adenoidekto...\n",
       "1098    Weißer Mann mit beginnenden Schmerzen in der B...\n",
       "2016             Größere trochanterische Bursa-Injektion.\n",
       "4316    Eine 10 Tage alte kaukasische Frau mit bilater...\n",
       "Name: translation, Length: 200, dtype: object"
      ]
     },
     "execution_count": 66,
     "metadata": {},
     "output_type": "execute_result"
    }
   ],
   "source": [
    "data_translate['translation']"
   ]
  },
  {
   "cell_type": "code",
   "execution_count": 70,
   "metadata": {},
   "outputs": [],
   "source": [
    "translated_text = []\n",
    "for index in data_translate.index:\n",
    "    translated_text.append(data_translate.translation[index])"
   ]
  },
  {
   "cell_type": "code",
   "execution_count": 72,
   "metadata": {},
   "outputs": [],
   "source": [
    "laser = Laser()\n",
    "embeddings_translated = laser.embed_sentences(\n",
    "    translated_text,\n",
    "    lang='de')"
   ]
  },
  {
   "cell_type": "code",
   "execution_count": 73,
   "metadata": {},
   "outputs": [],
   "source": [
    "y_prob_de = model.predict(embeddings_translated)\n",
    "y_pred_de = np.argmax(y_prob_de, axis = 1)"
   ]
  },
  {
   "cell_type": "code",
   "execution_count": 77,
   "metadata": {},
   "outputs": [],
   "source": [
    "labels_de = onehot.transform(np.asarray(data_translate['categories']).reshape(-1,1))"
   ]
  },
  {
   "cell_type": "code",
   "execution_count": 80,
   "metadata": {},
   "outputs": [
    {
     "data": {
      "text/plain": [
       "0.8248451571176139"
      ]
     },
     "execution_count": 80,
     "metadata": {},
     "output_type": "execute_result"
    }
   ],
   "source": [
    "roc_auc_score(np.argmax(labels_de, axis = 1), y_prob_de, multi_class = 'ovo')"
   ]
  },
  {
   "cell_type": "markdown",
   "metadata": {},
   "source": [
    "### Random Forest"
   ]
  },
  {
   "cell_type": "code",
   "execution_count": 30,
   "metadata": {},
   "outputs": [],
   "source": [
    "from sklearn.ensemble import RandomForestClassifier"
   ]
  },
  {
   "cell_type": "code",
   "execution_count": 31,
   "metadata": {},
   "outputs": [],
   "source": [
    "X_rf = embeddings\n",
    "y_rf = data.categories"
   ]
  },
  {
   "cell_type": "code",
   "execution_count": 32,
   "metadata": {},
   "outputs": [],
   "source": [
    "X_train_rf, X_test_rf, y_train_rf, y_test_rf = train_test_split(X_rf, y_rf, test_size=0.1, random_state=42)\n",
    "X_train_rf, X_valid_rf, y_train_rf, y_valid_rf = train_test_split(X_train_rf, y_train_rf, test_size=0.1, random_state=42)"
   ]
  },
  {
   "cell_type": "code",
   "execution_count": 33,
   "metadata": {},
   "outputs": [],
   "source": [
    "clf = RandomForestClassifier(random_state=0)"
   ]
  },
  {
   "cell_type": "code",
   "execution_count": 34,
   "metadata": {},
   "outputs": [
    {
     "data": {
      "text/plain": [
       "RandomForestClassifier(random_state=0)"
      ]
     },
     "execution_count": 34,
     "metadata": {},
     "output_type": "execute_result"
    }
   ],
   "source": [
    "clf.fit(X_train_rf, y_train_rf)"
   ]
  },
  {
   "cell_type": "code",
   "execution_count": 35,
   "metadata": {},
   "outputs": [],
   "source": [
    "y_prob = clf.predict_proba(X_test_rf)"
   ]
  },
  {
   "cell_type": "code",
   "execution_count": 36,
   "metadata": {},
   "outputs": [],
   "source": [
    "y_pred = np.argmax(y_prob, axis = 1)"
   ]
  },
  {
   "cell_type": "code",
   "execution_count": 37,
   "metadata": {},
   "outputs": [
    {
     "data": {
      "text/plain": [
       "0.6177737992153228"
      ]
     },
     "execution_count": 37,
     "metadata": {},
     "output_type": "execute_result"
    }
   ],
   "source": [
    "roc_auc_score(np.argmax(y_test, axis = 1), y_prob, multi_class = 'ovo')"
   ]
  }
 ],
 "metadata": {
  "kernelspec": {
   "display_name": "Python 3",
   "language": "python",
   "name": "python3"
  },
  "language_info": {
   "codemirror_mode": {
    "name": "ipython",
    "version": 3
   },
   "file_extension": ".py",
   "mimetype": "text/x-python",
   "name": "python",
   "nbconvert_exporter": "python",
   "pygments_lexer": "ipython3",
   "version": "3.6.9"
  }
 },
 "nbformat": 4,
 "nbformat_minor": 2
}
